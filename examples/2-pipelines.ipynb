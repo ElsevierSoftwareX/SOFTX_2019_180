{
 "cells": [
  {
   "cell_type": "markdown",
   "metadata": {},
   "source": [
    "This is a tutorial for Python 2.7\n",
    "\n",
    "# pyphysio library\n",
    "\n",
    "## 2. Pipelines\n",
    "\n",
    "In this tutorial we consider two pipelines for the processing of ECG and EDA signals respectively.\n",
    "\n",
    "We divide the pipelines into three separate steps:\n",
    "1. Filtering and Preprocessing: this step includes all the procedures aiming at increasing the signal/noise ratio, typycally band-pass filtering, smoothing, removal of artifacts. The output of this step is a new version of the imput signal with improved signal quality (less noise);\n",
    "2. Information Extraction: this step aims at extracting the information of interest from the physiological signal. The output is a new signal containing only the information of interest and thus it has a **signal_nature** different from the input signal.\n",
    "3. Physiological Indicators: this steps produces a list of scalar values able to describe the characteristics of the input signal. This step is usually performed on small segments of the input signals which are extracted using a sliding window on the whole length of the signal."
   ]
  },
  {
   "cell_type": "markdown",
   "metadata": {},
   "source": [
    "![Figure 2: Physiological signal processing flowchart](img/flowchart_processing.png)\n",
    "\n",
    "*Figure 2: Physiological signal processing flowchart*"
   ]
  },
  {
   "cell_type": "markdown",
   "metadata": {},
   "source": [
    "To understand how a signal processing step is represented in **pyphysio** see tutorial 1-signals_algorithms\n",
    "\n",
    "In the following code we will also use the shortened sintax to apply a signal processing step:"
   ]
  },
  {
   "cell_type": "markdown",
   "metadata": {},
   "source": [
    "```python\n",
    "# standard sintax: creation + execution\n",
    "filter_iir = ph.IIRFilter(fp=45, fs = 50, ftype='ellip') # creation of the processing step\n",
    "ecg_out = filter_iir(ecg) # execution on the input signal\n",
    "\n",
    "\n",
    "# shortened sintax: creation(execution)\n",
    "ecg_out = ph.IIRFilter(fp=45, fs = 50, ftype='ellip')(ecg)```"
   ]
  },
  {
   "cell_type": "markdown",
   "metadata": {},
   "source": [
    "However, the standard sintax is suggested when applying the same processing steps to multiple signals or for the clarity of the scripts:\n",
    "\n",
    "Es:\n",
    "```python\n",
    "filter_iir = ph.IIRFilter(fp=45, fs = 50, ftype='ellip') # creation of the processing step\n",
    "\n",
    "ecg_1_out = filter_iir(ecg_1) # execution on the input signal\n",
    "ecg_2_out = filter_iir(ecg_2) # execution on the input signal\n",
    "ecg_3_out = filter_iir(ecg_3) # execution on the input signal\n",
    "```"
   ]
  },
  {
   "cell_type": "markdown",
   "metadata": {
    "collapsed": true
   },
   "source": [
    "### 2.1 ECG processing pipeline"
   ]
  },
  {
   "cell_type": "markdown",
   "metadata": {},
   "source": [
    "** Step 0: Import data **"
   ]
  },
  {
   "cell_type": "code",
   "execution_count": 1,
   "metadata": {
    "collapsed": true
   },
   "outputs": [],
   "source": [
    "# import libraries\n",
    "from __future__ import division\n",
    "import numpy as np\n",
    "import matplotlib.pyplot as plt"
   ]
  },
  {
   "cell_type": "code",
   "execution_count": 2,
   "metadata": {},
   "outputs": [
    {
     "name": "stdout",
     "output_type": "stream",
     "text": [
      "Using matplotlib backend: TkAgg\n"
     ]
    }
   ],
   "source": [
    "# for windowed plots\n",
    "%matplotlib auto "
   ]
  },
  {
   "cell_type": "code",
   "execution_count": 3,
   "metadata": {},
   "outputs": [
    {
     "data": {
      "text/plain": [
       "['/home/andrea/Trento/CODICE/workspaces/pyHRV/pyphysio']"
      ]
     },
     "execution_count": 3,
     "metadata": {},
     "output_type": "execute_result"
    }
   ],
   "source": [
    "# import all pyphysio classes and methods\n",
    "import pyphysio as ph\n",
    "ph.__path__"
   ]
  },
  {
   "cell_type": "code",
   "execution_count": 4,
   "metadata": {
    "collapsed": true
   },
   "outputs": [],
   "source": [
    "# import data and creating a signal\n",
    "\n",
    "ecg_data = ph.TestData.ecg()\n",
    "\n",
    "fsamp = 2048\n",
    "ecg = ph.EvenlySignal(values = ecg_data, sampling_freq = fsamp, signal_nature = 'ecg')"
   ]
  },
  {
   "cell_type": "code",
   "execution_count": null,
   "metadata": {},
   "outputs": [],
   "source": [
    "ecg.plot()"
   ]
  },
  {
   "cell_type": "markdown",
   "metadata": {},
   "source": [
    "** Step 1: Filtering and preprocessing **"
   ]
  },
  {
   "cell_type": "code",
   "execution_count": 5,
   "metadata": {
    "collapsed": true
   },
   "outputs": [],
   "source": [
    "# (optional) IIR filtering : remove high frequency noise\n",
    "ecg = ph.IIRFilter(fp=45, fs = 50, ftype='ellip')(ecg)"
   ]
  },
  {
   "cell_type": "code",
   "execution_count": 6,
   "metadata": {
    "collapsed": true
   },
   "outputs": [],
   "source": [
    "# normalization : normalize data\n",
    "ecg = ph.Normalize(norm_method='standard')(ecg)"
   ]
  },
  {
   "cell_type": "code",
   "execution_count": 7,
   "metadata": {
    "collapsed": true
   },
   "outputs": [],
   "source": [
    "# resampling : increase the sampling frequency by cubic interpolation\n",
    "ecg = ecg.resample(fout=4096, kind='cubic')\n",
    "fsamp = 4096"
   ]
  },
  {
   "cell_type": "code",
   "execution_count": null,
   "metadata": {
    "collapsed": true
   },
   "outputs": [],
   "source": [
    "ecg.plot()"
   ]
  },
  {
   "cell_type": "markdown",
   "metadata": {},
   "source": [
    "** Step 2: Information Extraction **\n",
    "\n",
    "The information we want to extract from the ECG signal is the position of the heartbeats and the Inter Beat Interval signal."
   ]
  },
  {
   "cell_type": "code",
   "execution_count": 8,
   "metadata": {
    "collapsed": true
   },
   "outputs": [],
   "source": [
    "ibi = ph.BeatFromECG()(ecg)"
   ]
  },
  {
   "cell_type": "code",
   "execution_count": 9,
   "metadata": {},
   "outputs": [
    {
     "data": {
      "text/plain": [
       "120.0"
      ]
     },
     "execution_count": 9,
     "metadata": {},
     "output_type": "execute_result"
    }
   ],
   "source": [
    "ibi.get_duration()"
   ]
  },
  {
   "cell_type": "code",
   "execution_count": null,
   "metadata": {
    "collapsed": true
   },
   "outputs": [],
   "source": [
    "# check results so far\n",
    "ax1 = plt.subplot(211)\n",
    "ecg.plot()\n",
    "plt.vlines(ibi.get_times(), np.min(ecg), np.max(ecg))\n",
    "\n",
    "plt.subplot(212, sharex = ax1)\n",
    "ibi.plot('o-')\n",
    "plt.vlines(ibi.get_times(), np.min(ibi), np.max(ibi))\n",
    "plt.show()"
   ]
  },
  {
   "cell_type": "markdown",
   "metadata": {},
   "source": [
    "** Step 3: Physiological Indicators **"
   ]
  },
  {
   "cell_type": "code",
   "execution_count": 10,
   "metadata": {
    "collapsed": true
   },
   "outputs": [],
   "source": [
    "# define a list of indicators we want to compute\n",
    "hrv_indicators = [ph.Mean(name='RRmean'), ph.StDev(name='RRstd'), ph.RMSSD(name='rmsSD')]\n",
    "ph.hrv_indicators"
   ]
  },
  {
   "cell_type": "code",
   "execution_count": 11,
   "metadata": {
    "collapsed": true
   },
   "outputs": [],
   "source": [
    "# create fake label\n",
    "label = np.zeros(1200)\n",
    "\n",
    "label[300:600] = 1\n",
    "\n",
    "label[900:1200] = 2\n",
    "\n",
    "label = ph.EvenlySignal(label, sampling_freq = 10, signal_nature = 'label')"
   ]
  },
  {
   "cell_type": "code",
   "execution_count": 12,
   "metadata": {
    "collapsed": true
   },
   "outputs": [],
   "source": [
    "# check label\n",
    "ax1 = plt.subplot(211)\n",
    "ibi.plot('.-')\n",
    "\n",
    "plt.subplot(212, sharex = ax1)\n",
    "label.plot('.-')\n",
    "plt.show()"
   ]
  },
  {
   "cell_type": "code",
   "execution_count": 14,
   "metadata": {
    "collapsed": true
   },
   "outputs": [],
   "source": [
    "#fixed length windowing\n",
    "fixed_length = ph.FixedSegments(step = 5, width = 10, labels = label, drop_mixed=True, drop_cut=False)\n",
    "\n",
    "indicators, col_names = ph.fmap(fixed_length, hrv_indicators, ibi)"
   ]
  },
  {
   "cell_type": "code",
   "execution_count": 15,
   "metadata": {},
   "outputs": [
    {
     "data": {
      "text/plain": [
       "array([[   0.,   10.,    0.],\n",
       "       [   5.,   15.,    0.],\n",
       "       [  10.,   20.,    0.],\n",
       "       [  15.,   25.,    0.],\n",
       "       [  20.,   30.,    0.],\n",
       "       [  25.,   35.,    0.],\n",
       "       [  30.,   40.,    1.],\n",
       "       [  35.,   45.,    1.],\n",
       "       [  40.,   50.,    1.],\n",
       "       [  45.,   55.,    1.],\n",
       "       [  50.,   60.,    1.],\n",
       "       [  55.,   65.,    1.],\n",
       "       [  60.,   70.,    0.],\n",
       "       [  65.,   75.,    0.],\n",
       "       [  70.,   80.,    0.],\n",
       "       [  75.,   85.,    0.],\n",
       "       [  80.,   90.,    0.],\n",
       "       [  85.,   95.,    0.],\n",
       "       [  90.,  100.,    2.],\n",
       "       [  95.,  105.,    2.],\n",
       "       [ 100.,  110.,    2.],\n",
       "       [ 105.,  115.,    2.],\n",
       "       [ 110.,  120.,    2.],\n",
       "       [ 115.,  120.,    2.]])"
      ]
     },
     "execution_count": 15,
     "metadata": {},
     "output_type": "execute_result"
    }
   ],
   "source": [
    "indicators[:,0:3]"
   ]
  },
  {
   "cell_type": "code",
   "execution_count": 16,
   "metadata": {
    "collapsed": true
   },
   "outputs": [],
   "source": [
    "# extract column with the labels for each window\n",
    "label_w = indicators[:, np.where(col_names == 'label')[0]]\n",
    "\n",
    "# extract column with the RRmean values computed from each window\n",
    "rrmean_w = indicators[:, np.where(col_names == 'RRmean')[0]]"
   ]
  },
  {
   "cell_type": "code",
   "execution_count": 17,
   "metadata": {
    "scrolled": true
   },
   "outputs": [],
   "source": [
    "# create a box and whisker plot\n",
    "plt.boxplot([rrmean_w[np.where(label_w==1)[0]], rrmean_w[np.where(label_w==2)[0]]], labels=['image1', 'image2'])\n",
    "plt.show()"
   ]
  },
  {
   "cell_type": "code",
   "execution_count": 20,
   "metadata": {},
   "outputs": [
    {
     "data": {
      "text/plain": [
       "array([[   0.,   30.,    0.],\n",
       "       [  30.,   60.,    1.],\n",
       "       [  60.,   90.,    0.],\n",
       "       [  90.,  120.,    2.]])"
      ]
     },
     "execution_count": 20,
     "metadata": {},
     "output_type": "execute_result"
    }
   ],
   "source": [
    "#label based windowing\n",
    "label_based = ph.LabelSegments(labels = label, drop_cut=False, drop_mixed=False)\n",
    "\n",
    "indicators, col_names = ph.fmap(label_based, hrv_indicators, ibi)\n",
    "\n",
    "indicators[:,0:3]"
   ]
  },
  {
   "cell_type": "code",
   "execution_count": 19,
   "metadata": {},
   "outputs": [
    {
     "data": {
      "text/plain": [
       "array([[0, 30, None],\n",
       "       [30, 60, None],\n",
       "       [60, 90, None],\n",
       "       [90, 120.0, None]], dtype=object)"
      ]
     },
     "execution_count": 19,
     "metadata": {},
     "output_type": "execute_result"
    }
   ],
   "source": [
    "custom_based = ph.CustomSegments(begins = [0, 30, 60, 90], ends = [30, 60, 90, label.get_duration()], labels=label, drop_shorter=False, drop_mixed=False)\n",
    "\n",
    "indicators, col_names = ph.fmap(custom_based, hrv_indicators, ibi)\n",
    "\n",
    "indicators[:,0:3]"
   ]
  },
  {
   "cell_type": "markdown",
   "metadata": {
    "collapsed": true
   },
   "source": [
    "### 2.2 EDA processing pipeline"
   ]
  },
  {
   "cell_type": "markdown",
   "metadata": {},
   "source": [
    "** Step 0: Import data **"
   ]
  },
  {
   "cell_type": "code",
   "execution_count": null,
   "metadata": {
    "collapsed": true
   },
   "outputs": [],
   "source": [
    "# import data and creating a signal\n",
    "\n",
    "eda_data = ph.TestData.eda()\n",
    "\n",
    "fsamp = 2048\n",
    "eda = ph.EvenlySignal(values = eda_data, sampling_freq = fsamp, signal_nature = 'eda')\n",
    "\n",
    "eda.plot()"
   ]
  },
  {
   "cell_type": "markdown",
   "metadata": {},
   "source": [
    "** Step 1: Filtering and preprocessing **"
   ]
  },
  {
   "cell_type": "code",
   "execution_count": null,
   "metadata": {
    "collapsed": true
   },
   "outputs": [],
   "source": [
    "# resampling : decrease the sampling frequency by cubic interpolation\n",
    "eda = eda.resample(fout=8, kind='cubic')"
   ]
  },
  {
   "cell_type": "code",
   "execution_count": null,
   "metadata": {
    "collapsed": true
   },
   "outputs": [],
   "source": [
    "# IIR filtering : remove high frequency noise\n",
    "eda = ph.IIRFilter(fp=0.8, fs = 1.1, ftype='ellip')(eda)"
   ]
  },
  {
   "cell_type": "code",
   "execution_count": null,
   "metadata": {
    "collapsed": true
   },
   "outputs": [],
   "source": [
    "eda.plot()"
   ]
  },
  {
   "cell_type": "markdown",
   "metadata": {},
   "source": [
    "** Step 2: Information Extraction **\n",
    "\n",
    "The information we want to extract from the EDA signal is the phasic component associated to the sympathetic activity."
   ]
  },
  {
   "cell_type": "code",
   "execution_count": null,
   "metadata": {
    "collapsed": true
   },
   "outputs": [],
   "source": [
    "# estimate the driver function\n",
    "driver = ph.DriverEstim()(eda)"
   ]
  },
  {
   "cell_type": "code",
   "execution_count": null,
   "metadata": {
    "collapsed": true
   },
   "outputs": [],
   "source": [
    "# compute the phasic component\n",
    "phasic, tonic, _ = ph.PhasicEstim(delta=0.02)(driver)\n",
    "phasic.plot()"
   ]
  },
  {
   "cell_type": "code",
   "execution_count": null,
   "metadata": {
    "collapsed": true
   },
   "outputs": [],
   "source": [
    "# check results so far\n",
    "ax1 = plt.subplot(211)\n",
    "eda.plot()\n",
    "\n",
    "plt.subplot(212, sharex = ax1)\n",
    "driver.plot()\n",
    "phasic.plot()\n",
    "plt.grid()\n",
    "plt.show()"
   ]
  },
  {
   "cell_type": "markdown",
   "metadata": {},
   "source": [
    "** Step 3: Physiological Indicators **"
   ]
  },
  {
   "cell_type": "code",
   "execution_count": null,
   "metadata": {
    "collapsed": true
   },
   "outputs": [],
   "source": [
    "# define a list of indicators we want to compute\n",
    "indicators = [ph.Mean(), ph.StDev(), ph.AUC(), \n",
    "              ph.PeaksMean(delta=0.02),\n",
    "              ph.DurationMean(delta=0.02)\n",
    "             ]\n"
   ]
  },
  {
   "cell_type": "code",
   "execution_count": null,
   "metadata": {
    "collapsed": true
   },
   "outputs": [],
   "source": [
    "# define the windowing method\n",
    "# create fake label\n",
    "label = np.zeros(1200)\n",
    "\n",
    "label[300:600] = 1\n",
    "\n",
    "label[900:1200] = 2\n",
    "\n",
    "label = ph.EvenlySignal(label, sampling_freq = 10, signal_nature = 'label')"
   ]
  },
  {
   "cell_type": "code",
   "execution_count": null,
   "metadata": {
    "collapsed": true
   },
   "outputs": [],
   "source": [
    "#fixed length windowing\n",
    "fixed_length = ph.FixedSegments(step = 5, width = 20, labels = label, drop_mixed=False, drop_shorter=False)\n",
    "\n",
    "indicators, col_names = ph.fmap(fixed_length(eda), indicators)"
   ]
  },
  {
   "cell_type": "code",
   "execution_count": null,
   "metadata": {
    "collapsed": true
   },
   "outputs": [],
   "source": []
  }
 ],
 "metadata": {
  "celltoolbar": "Raw Cell Format",
  "kernelspec": {
   "display_name": "python27",
   "language": "python",
   "name": "python27"
  },
  "language_info": {
   "codemirror_mode": {
    "name": "ipython",
    "version": 2
   },
   "file_extension": ".py",
   "mimetype": "text/x-python",
   "name": "python",
   "nbconvert_exporter": "python",
   "pygments_lexer": "ipython2",
   "version": "2.7.13"
  }
 },
 "nbformat": 4,
 "nbformat_minor": 2
}
