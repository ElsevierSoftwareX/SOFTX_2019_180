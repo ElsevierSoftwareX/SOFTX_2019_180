{
 "cells": [
  {
   "cell_type": "code",
   "execution_count": 1,
   "metadata": {
    "collapsed": true
   },
   "outputs": [],
   "source": [
    "# import libraries\n",
    "from __future__ import division\n",
    "import numpy as np\n",
    "import os\n",
    "import pyphysio as ph\n",
    "\n",
    "# import data and creating a signal\n",
    "ecg_data = ph.TestData.ecg()\n",
    "\n",
    "fsamp = 2048\n",
    "ecg = ph.EvenlySignal(values = ecg_data, sampling_freq = fsamp, signal_nature = 'ecg')\n",
    "ibi = ph.BeatFromECG()(ecg)\n",
    "\n",
    "label = np.zeros(1200)\n",
    "label[300:600] = 1\n",
    "label[900:1200] = 2\n",
    "\n",
    "label = ph.EvenlySignal(label, sampling_freq = 10, signal_nature = 'label')\n",
    "\n",
    "t_start = [0.5, 15, 78.7]\n",
    "t_stop = [5, 21, 110.4]\n",
    "\n",
    "custom_segments = ph.CustomSegments(begins = t_start, ends = t_stop, labels = label)\n",
    "\n",
    "indicators, col_names = ph.fmap(custom_segments, [ph.Mean(name='RRmean')], ibi)\n",
    "\n",
    "print(indicators[:, :3])"
   ]
  },
  {
   "cell_type": "code",
   "execution_count": null,
   "metadata": {
    "collapsed": true
   },
   "outputs": [],
   "source": []
  }
 ],
 "metadata": {
  "kernelspec": {
   "display_name": "Python 3",
   "language": "python",
   "name": "python3"
  },
  "language_info": {
   "codemirror_mode": {
    "name": "ipython",
    "version": 3
   },
   "file_extension": ".py",
   "mimetype": "text/x-python",
   "name": "python",
   "nbconvert_exporter": "python",
   "pygments_lexer": "ipython3",
   "version": "3.6.0"
  }
 },
 "nbformat": 4,
 "nbformat_minor": 2
}
