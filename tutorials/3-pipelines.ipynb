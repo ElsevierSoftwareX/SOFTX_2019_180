{
 "cells": [
  {
   "cell_type": "markdown",
   "metadata": {},
   "source": [
    "# pyphysio tutorial\n",
    "\n",
    "## 3. Pipelines\n",
    "\n",
    "In this tutorial we consider two pipelines for the processing of ECG and EDA signals respectively.\n",
    "\n",
    "We divide the pipelines into three separate steps:\n",
    "1. Filtering and Preprocessing: this step includes all the procedures aiming at increasing the signal/noise ratio, typycally band-pass filtering, smoothing, removal of artifacts. The output of this step is a new version of the imput signal with improved signal quality (less noise);\n",
    "2. Information Extraction: this step aims at extracting the information of interest from the physiological signal. The output is a new signal containing only the information of interest and thus it has a **signal_nature** different from the input signal.\n",
    "3. Physiological Indicators: this steps produces a list of scalar values able to describe the characteristics of the input signal. This step is usually performed on small segments of the input signals which are extracted using a sliding window on the whole length of the signal."
   ]
  },
  {
   "cell_type": "markdown",
   "metadata": {},
   "source": [
    "![algorithm](img/flowchart_processing.png)\n",
    "\n",
    "*Figure 1: Representation of the three main steps of a signal processing pipeline. Below: example of the ideal results of each block on a Photo-PlethysmoGraph (PPG) signal. *"
   ]
  },
  {
   "cell_type": "markdown",
   "metadata": {},
   "source": [
    "To understand how a signal processing step is represented in **pyphysio** see tutorial 2-algorithms\n",
    "\n",
    "In the following code we will also use the shortened sintax to apply a signal processing step:"
   ]
  },
  {
   "cell_type": "markdown",
   "metadata": {},
   "source": [
    "```python\n",
    "# standard sintax: creation + execution\n",
    "filter_iir = ph.IIRFilter(fp=45, fs = 50, ftype='ellip') # creation of the processing step\n",
    "ecg_out = filter_iir(ecg) # execution on the input signal\n",
    "\n",
    "\n",
    "# shortened sintax: creation(execution)\n",
    "ecg_out = ph.IIRFilter(fp=45, fs = 50, ftype='ellip')(ecg)```"
   ]
  },
  {
   "cell_type": "markdown",
   "metadata": {},
   "source": [
    "However, the standard sintax is suggested when applying the same processing steps to multiple signals or for the clarity of the scripts:\n",
    "\n",
    "Es:\n",
    "```python\n",
    "filter_iir = ph.IIRFilter(fp=45, fs = 50, ftype='ellip') # creation of the processing step\n",
    "\n",
    "ecg_1_out = filter_iir(ecg_1) # execution on the input signal\n",
    "ecg_2_out = filter_iir(ecg_2) # execution on the input signal\n",
    "ecg_3_out = filter_iir(ecg_3) # execution on the input signal\n",
    "```"
   ]
  },
  {
   "cell_type": "markdown",
   "metadata": {},
   "source": [
    "### 3.1 ECG processing pipeline"
   ]
  },
  {
   "cell_type": "markdown",
   "metadata": {},
   "source": [
    "** Step 0: Import data **"
   ]
  },
  {
   "cell_type": "code",
   "execution_count": 1,
   "metadata": {
    "ExecuteTime": {
     "end_time": "2017-12-12T13:29:46.601108Z",
     "start_time": "2017-12-12T13:29:46.398754Z"
    }
   },
   "outputs": [],
   "source": [
    "# import libraries\n",
    "import numpy as np\n",
    "import matplotlib.pyplot as plt\n",
    "\n",
    "%matplotlib inline "
   ]
  },
  {
   "cell_type": "code",
   "execution_count": 2,
   "metadata": {
    "ExecuteTime": {
     "end_time": "2017-12-12T13:29:46.855287Z",
     "start_time": "2017-12-12T13:29:46.602553Z"
    }
   },
   "outputs": [],
   "source": [
    "# import all pyphysio classes and methods\n",
    "import pyphysio as ph"
   ]
  },
  {
   "cell_type": "code",
   "execution_count": 3,
   "metadata": {
    "ExecuteTime": {
     "end_time": "2017-12-12T13:29:48.799132Z",
     "start_time": "2017-12-12T13:29:46.856995Z"
    }
   },
   "outputs": [],
   "source": [
    "# import data and creating a signal\n",
    "import pyphysio.tests as test\n",
    "ecg_data = test.TestData.ecg()\n",
    "\n",
    "fsamp = 2048\n",
    "ecg = ph.EvenlySignal(values = ecg_data, sampling_freq = fsamp, signal_type = 'ecg')"
   ]
  },
  {
   "cell_type": "code",
   "execution_count": 4,
   "metadata": {
    "ExecuteTime": {
     "end_time": "2017-12-12T13:29:49.009874Z",
     "start_time": "2017-12-12T13:29:48.800762Z"
    }
   },
   "outputs": [
    {
     "data": {
      "text/plain": [
       "[<matplotlib.lines.Line2D at 0x7f554fa57550>]"
      ]
     },
     "execution_count": 4,
     "metadata": {},
     "output_type": "execute_result"
    },
    {
     "data": {
      "image/png": "[encoded data removed]",
      "text/plain": [
       "<Figure size 432x288 with 1 Axes>"
      ]
     },
     "metadata": {
      "needs_background": "light"
     },
     "output_type": "display_data"
    }
   ],
   "source": [
    "ecg.plot()"
   ]
  },
  {
   "cell_type": "markdown",
   "metadata": {},
   "source": [
    "To better understand how to develop a signal processing pipelines we imagine that the physiological signals were collected during an experiment in which the subject watched two images with different emotional content.\n",
    "\n",
    "Specifically the experiment is composed of four parts:\n",
    "* [  0s -  30s] - baseline\n",
    "* [ 30s -  60s] - image 1\n",
    "* [ 60s -  90s] - baseline\n",
    "* [ 90s - 120s] - image 2\n",
    "\n",
    "We store the information about the experimental sessions in an `EvenlySignal` signal appositely created:"
   ]
  },
  {
   "cell_type": "code",
   "execution_count": 5,
   "metadata": {
    "ExecuteTime": {
     "end_time": "2017-12-12T13:29:49.016925Z",
     "start_time": "2017-12-12T13:29:49.012037Z"
    }
   },
   "outputs": [],
   "source": [
    "# create label\n",
    "label = np.zeros(1200)\n",
    "label[300:600] = 1\n",
    "label[900:1200] = 2\n",
    "\n",
    "label = ph.EvenlySignal(label, sampling_freq = 10, signal_type = 'label')"
   ]
  },
  {
   "cell_type": "markdown",
   "metadata": {},
   "source": [
    "Note that in some other cases a similar signal might be provided by design of the experiment, for instance by using markers or triggers."
   ]
  },
  {
   "cell_type": "markdown",
   "metadata": {},
   "source": [
    "** Step 1: Filtering and preprocessing **"
   ]
  },
  {
   "cell_type": "code",
   "execution_count": 6,
   "metadata": {
    "ExecuteTime": {
     "end_time": "2017-12-12T13:29:49.107865Z",
     "start_time": "2017-12-12T13:29:49.018304Z"
    }
   },
   "outputs": [],
   "source": [
    "# (optional) IIR filtering : remove high frequency noise\n",
    "ecg = ph.IIRFilter(fp=45, fs = 50, ftype='ellip')(ecg)"
   ]
  },
  {
   "cell_type": "code",
   "execution_count": 7,
   "metadata": {
    "ExecuteTime": {
     "end_time": "2017-12-12T13:29:49.181239Z",
     "start_time": "2017-12-12T13:29:49.109763Z"
    }
   },
   "outputs": [],
   "source": [
    "# normalization : normalize data\n",
    "ecg = ph.Normalize(norm_method='standard')(ecg)"
   ]
  },
  {
   "cell_type": "code",
   "execution_count": 8,
   "metadata": {
    "ExecuteTime": {
     "end_time": "2017-12-12T13:29:49.351625Z",
     "start_time": "2017-12-12T13:29:49.183716Z"
    }
   },
   "outputs": [],
   "source": [
    "# resampling : increase the sampling frequency by cubic interpolation\n",
    "ecg = ecg.resample(fout=4096, kind='cubic')\n",
    "fsamp = 4096"
   ]
  },
  {
   "cell_type": "code",
   "execution_count": 13,
   "metadata": {
    "ExecuteTime": {
     "end_time": "2017-12-12T13:29:49.558314Z",
     "start_time": "2017-12-12T13:29:49.353545Z"
    }
   },
   "outputs": [
    {
     "data": {
      "text/plain": [
       "[<matplotlib.lines.Line2D at 0x7f1ead01e320>]"
      ]
     },
     "execution_count": 13,
     "metadata": {},
     "output_type": "execute_result"
    },
    {
     "data": {
      "image/png": "[encoded data removed]",
      "text/plain": [
       "<Figure size 432x288 with 1 Axes>"
      ]
     },
     "metadata": {
      "needs_background": "light"
     },
     "output_type": "display_data"
    }
   ],
   "source": [
    "ecg.plot()"
   ]
  },
  {
   "cell_type": "markdown",
   "metadata": {},
   "source": [
    "** Step 2: Information Extraction **\n",
    "\n",
    "The information we want to extract from the ECG signal is the position of the heartbeats and the Inter Beat Interval signal."
   ]
  },
  {
   "cell_type": "code",
   "execution_count": 9,
   "metadata": {
    "ExecuteTime": {
     "end_time": "2017-12-12T13:29:49.789882Z",
     "start_time": "2017-12-12T13:29:49.560147Z"
    }
   },
   "outputs": [],
   "source": [
    "ibi = ph.BeatFromECG()(ecg)"
   ]
  },
  {
   "cell_type": "code",
   "execution_count": 15,
   "metadata": {
    "ExecuteTime": {
     "end_time": "2017-12-12T13:29:49.795710Z",
     "start_time": "2017-12-12T13:29:49.791544Z"
    }
   },
   "outputs": [
    {
     "data": {
      "text/plain": [
       "120.0"
      ]
     },
     "execution_count": 15,
     "metadata": {},
     "output_type": "execute_result"
    }
   ],
   "source": [
    "ibi.get_duration()"
   ]
  },
  {
   "cell_type": "code",
   "execution_count": 12,
   "metadata": {
    "ExecuteTime": {
     "end_time": "2017-12-12T13:29:50.138491Z",
     "start_time": "2017-12-12T13:29:49.798563Z"
    }
   },
   "outputs": [
    {
     "name": "stdout",
     "output_type": "stream",
     "text": [
      "Using matplotlib backend: Qt5Agg\n"
     ]
    }
   ],
   "source": [
    "# check results so far\n",
    "%matplotlib auto\n",
    "ax1 = plt.subplot(211)\n",
    "ecg.plot()\n",
    "plt.vlines(ibi.get_times(), np.min(ecg), np.max(ecg))\n",
    "\n",
    "plt.subplot(212, sharex = ax1)\n",
    "ibi.plot('o-')\n",
    "plt.vlines(ibi.get_times(), np.min(ibi), np.max(ibi))\n",
    "plt.show()"
   ]
  },
  {
   "cell_type": "code",
   "execution_count": 13,
   "metadata": {
    "ExecuteTime": {
     "end_time": "2017-12-12T13:29:50.142303Z",
     "start_time": "2017-12-12T13:29:50.140261Z"
    }
   },
   "outputs": [],
   "source": [
    "# edit IBI\n",
    "# ibi_ok = ph.Annotate(ecg, ibi)()"
   ]
  },
  {
   "cell_type": "markdown",
   "metadata": {},
   "source": [
    "** Step 3: Physiological Indicators **"
   ]
  },
  {
   "cell_type": "code",
   "execution_count": 17,
   "metadata": {
    "ExecuteTime": {
     "end_time": "2017-12-12T13:29:50.389970Z",
     "start_time": "2017-12-12T13:29:50.143881Z"
    }
   },
   "outputs": [
    {
     "data": {
      "image/png": "[encoded data removed]",
      "text/plain": [
       "<Figure size 432x288 with 2 Axes>"
      ]
     },
     "metadata": {
      "needs_background": "light"
     },
     "output_type": "display_data"
    }
   ],
   "source": [
    "# check label\n",
    "ax1 = plt.subplot(211)\n",
    "ibi.plot('.-')\n",
    "\n",
    "plt.subplot(212, sharex = ax1)\n",
    "label.plot('.-')\n",
    "plt.show()"
   ]
  },
  {
   "cell_type": "code",
   "execution_count": 13,
   "metadata": {
    "ExecuteTime": {
     "end_time": "2017-12-12T13:29:50.395964Z",
     "start_time": "2017-12-12T13:29:50.392181Z"
    }
   },
   "outputs": [],
   "source": [
    "# define a list of indicators we want to compute\n",
    "hrv_indicators = [ph.Mean(name='RRmean'), ph.StDev(name='RRstd'), ph.RMSSD(name='rmsSD')]"
   ]
  },
  {
   "cell_type": "code",
   "execution_count": 14,
   "metadata": {
    "ExecuteTime": {
     "end_time": "2017-12-12T13:29:50.551458Z",
     "start_time": "2017-12-12T13:29:50.398033Z"
    }
   },
   "outputs": [],
   "source": [
    "#fixed length windowing\n",
    "fixed_length = ph.FixedSegments(step = 5, width = 10, labels = label)\n",
    "\n",
    "indicators, col_names = ph.fmap(fixed_length, hrv_indicators, ibi)"
   ]
  },
  {
   "cell_type": "code",
   "execution_count": 15,
   "metadata": {
    "ExecuteTime": {
     "end_time": "2017-12-12T13:31:55.665746Z",
     "start_time": "2017-12-12T13:31:55.659994Z"
    }
   },
   "outputs": [],
   "source": [
    "# extract column with the labels for each window\n",
    "label_w = indicators[:, np.where(col_names == 'label')[0]]\n",
    "\n",
    "# extract column with the RRmean values computed from each window\n",
    "rrmean_w = indicators[:, np.where(col_names == 'RRmean')[0]]\n",
    "\n",
    "rrmean_image1 = rrmean_w[np.where(label_w==1)[0]].ravel()\n",
    "rrmean_image2 = rrmean_w[np.where(label_w==2)[0]].ravel()"
   ]
  },
  {
   "cell_type": "code",
   "execution_count": 16,
   "metadata": {
    "ExecuteTime": {
     "end_time": "2017-12-12T13:32:00.107134Z",
     "start_time": "2017-12-12T13:31:59.980870Z"
    }
   },
   "outputs": [
    {
     "data": {
      "text/plain": [
       "{'whiskers': [<matplotlib.lines.Line2D at 0x7f5545f10898>,\n",
       "  <matplotlib.lines.Line2D at 0x7f5545f10be0>,\n",
       "  <matplotlib.lines.Line2D at 0x7f5545f1bfd0>,\n",
       "  <matplotlib.lines.Line2D at 0x7f5545f28358>],\n",
       " 'caps': [<matplotlib.lines.Line2D at 0x7f5545f10f28>,\n",
       "  <matplotlib.lines.Line2D at 0x7f5545f1b2b0>,\n",
       "  <matplotlib.lines.Line2D at 0x7f5545f286a0>,\n",
       "  <matplotlib.lines.Line2D at 0x7f5545f289e8>],\n",
       " 'boxes': [<matplotlib.lines.Line2D at 0x7f5545f10748>,\n",
       "  <matplotlib.lines.Line2D at 0x7f5545f1bc50>],\n",
       " 'medians': [<matplotlib.lines.Line2D at 0x7f5545f1b5f8>,\n",
       "  <matplotlib.lines.Line2D at 0x7f5545f28d30>],\n",
       " 'fliers': [<matplotlib.lines.Line2D at 0x7f5545f1b940>,\n",
       "  <matplotlib.lines.Line2D at 0x7f5552f8f0b8>],\n",
       " 'means': []}"
      ]
     },
     "execution_count": 16,
     "metadata": {},
     "output_type": "execute_result"
    }
   ],
   "source": [
    "## create a box and whisker plot to compare the distibution of the RRmean indicator\n",
    "plt.boxplot([rrmean_image1, rrmean_image2],\n",
    "            labels=['image1', 'image2'])"
   ]
  },
  {
   "cell_type": "markdown",
   "metadata": {},
   "source": [
    "`pyphysio` provides by default some presets of standard indicators for Heart Rate Variability and Electrodermal activity analysis.\n",
    "\n",
    "Each indicator has its own pre-defined parameters:"
   ]
  },
  {
   "cell_type": "code",
   "execution_count": null,
   "metadata": {
    "ExecuteTime": {
     "end_time": "2017-12-12T13:29:50.955405Z",
     "start_time": "2017-12-12T13:29:46.487Z"
    }
   },
   "outputs": [],
   "source": [
    "HRV_FD = ph.preset_hrv_fd() #frequency domain HRV indicators\n",
    "print(HRV_FD)\n",
    "\n",
    "print(HRV_FD[0].get())"
   ]
  },
  {
   "cell_type": "markdown",
   "metadata": {},
   "source": [
    "If a customization of the indicators is not required, it is easier to directly use them instead of manually define each indicator:"
   ]
  },
  {
   "cell_type": "code",
   "execution_count": null,
   "metadata": {
    "ExecuteTime": {
     "end_time": "2017-12-12T13:29:50.956511Z",
     "start_time": "2017-12-12T13:29:46.489Z"
    }
   },
   "outputs": [],
   "source": [
    "FD_HRV_ind, col_names = ph.fmap(fixed_length, ph.preset_hrv_fd(), ibi)"
   ]
  },
  {
   "cell_type": "markdown",
   "metadata": {},
   "source": [
    "If you need to export the results, for instance in a .csv datafile, you can use `pandas`:"
   ]
  },
  {
   "cell_type": "code",
   "execution_count": null,
   "metadata": {
    "ExecuteTime": {
     "end_time": "2017-12-12T13:29:50.957351Z",
     "start_time": "2017-12-12T13:29:46.491Z"
    }
   },
   "outputs": [],
   "source": [
    "import pandas as pd\n",
    "\n",
    "# create a pandas dataframe\n",
    "FD_HRV_df = pd.DataFrame(FD_HRV_ind, columns=col_names)\n",
    "\n",
    "FD_HRV_df"
   ]
  },
  {
   "cell_type": "code",
   "execution_count": null,
   "metadata": {
    "ExecuteTime": {
     "end_time": "2017-12-12T13:29:50.958154Z",
     "start_time": "2017-12-12T13:29:46.504Z"
    }
   },
   "outputs": [],
   "source": [
    "# and save it to a .csv file:\n",
    "\n",
    "#FD_HRV_df.to_csv('filename.csv')"
   ]
  },
  {
   "cell_type": "code",
   "execution_count": null,
   "metadata": {
    "ExecuteTime": {
     "end_time": "2017-12-12T13:29:50.958836Z",
     "start_time": "2017-12-12T13:29:46.506Z"
    }
   },
   "outputs": [],
   "source": [
    "# BE CAREFUL when executing the above command (uncomment first) \n",
    "# as it will save a new file in your current working directory.\n",
    "# To check your current working directory:\n",
    "import os\n",
    "print(os.getcwd())"
   ]
  },
  {
   "cell_type": "markdown",
   "metadata": {},
   "source": [
    "### 3.2 EDA processing pipeline"
   ]
  },
  {
   "cell_type": "markdown",
   "metadata": {},
   "source": [
    "** Step 0: Import data **"
   ]
  },
  {
   "cell_type": "code",
   "execution_count": 22,
   "metadata": {
    "ExecuteTime": {
     "end_time": "2017-12-12T13:29:50.959612Z",
     "start_time": "2017-12-12T13:29:46.509Z"
    }
   },
   "outputs": [
    {
     "data": {
      "text/plain": [
       "[<matplotlib.lines.Line2D at 0x7f1eb2ddaa90>]"
      ]
     },
     "execution_count": 22,
     "metadata": {},
     "output_type": "execute_result"
    },
    {
     "data": {
      "image/png": "[encoded data removed]",
      "text/plain": [
       "<Figure size 432x288 with 1 Axes>"
      ]
     },
     "metadata": {
      "needs_background": "light"
     },
     "output_type": "display_data"
    }
   ],
   "source": [
    "# import data and creating a signal\n",
    "\n",
    "eda_data = test.TestData.eda()\n",
    "\n",
    "fsamp = 2048\n",
    "eda = ph.EvenlySignal(values = eda_data, sampling_freq = fsamp, signal_type = 'eda')\n",
    "\n",
    "eda.plot()"
   ]
  },
  {
   "cell_type": "markdown",
   "metadata": {},
   "source": [
    "** Step 1: Filtering and preprocessing **"
   ]
  },
  {
   "cell_type": "code",
   "execution_count": 23,
   "metadata": {
    "ExecuteTime": {
     "end_time": "2017-12-12T13:29:50.960281Z",
     "start_time": "2017-12-12T13:29:46.518Z"
    }
   },
   "outputs": [],
   "source": [
    "# resampling : decrease the sampling frequency by cubic interpolation\n",
    "eda = eda.resample(fout=8, kind='cubic')"
   ]
  },
  {
   "cell_type": "code",
   "execution_count": 24,
   "metadata": {
    "ExecuteTime": {
     "end_time": "2017-12-12T13:29:50.961010Z",
     "start_time": "2017-12-12T13:29:46.524Z"
    }
   },
   "outputs": [],
   "source": [
    "# IIR filtering : remove high frequency noise\n",
    "eda_filt = ph.IIRFilter(fp=0.8, fs = 1.1, ftype='ellip')(eda)"
   ]
  },
  {
   "cell_type": "code",
   "execution_count": 30,
   "metadata": {
    "ExecuteTime": {
     "end_time": "2017-12-12T13:29:50.961827Z",
     "start_time": "2017-12-12T13:29:46.529Z"
    }
   },
   "outputs": [
    {
     "name": "stdout",
     "output_type": "stream",
     "text": [
      "Using matplotlib backend: Qt5Agg\n"
     ]
    }
   ],
   "source": [
    "%matplotlib auto\n",
    "eda.plot()\n",
    "eda_filt.plot()\n",
    "eda = eda_filt"
   ]
  },
  {
   "cell_type": "markdown",
   "metadata": {},
   "source": [
    "** Step 2: Information Extraction **\n",
    "\n",
    "The information we want to extract from the EDA signal is the phasic component associated to the sympathetic activity."
   ]
  },
  {
   "cell_type": "code",
   "execution_count": 31,
   "metadata": {
    "ExecuteTime": {
     "end_time": "2017-12-12T13:29:50.962596Z",
     "start_time": "2017-12-12T13:29:46.535Z"
    }
   },
   "outputs": [],
   "source": [
    "# estimate the driver function\n",
    "driver = ph.DriverEstim()(eda)"
   ]
  },
  {
   "cell_type": "code",
   "execution_count": 32,
   "metadata": {},
   "outputs": [
    {
     "data": {
      "text/plain": [
       "[<matplotlib.lines.Line2D at 0x7f1ea831e160>]"
      ]
     },
     "execution_count": 32,
     "metadata": {},
     "output_type": "execute_result"
    }
   ],
   "source": [
    "eda.plot()\n",
    "driver.plot()"
   ]
  },
  {
   "cell_type": "code",
   "execution_count": 33,
   "metadata": {
    "ExecuteTime": {
     "end_time": "2017-12-12T13:29:50.963307Z",
     "start_time": "2017-12-12T13:29:46.538Z"
    }
   },
   "outputs": [
    {
     "data": {
      "text/plain": [
       "[<matplotlib.lines.Line2D at 0x7f1ea81b4198>]"
      ]
     },
     "execution_count": 33,
     "metadata": {},
     "output_type": "execute_result"
    }
   ],
   "source": [
    "# compute the phasic component\n",
    "phasic, tonic, _ = ph.PhasicEstim(delta=0.02)(driver)\n",
    "eda.plot()\n",
    "driver.plot()\n",
    "phasic.plot()"
   ]
  },
  {
   "cell_type": "code",
   "execution_count": 38,
   "metadata": {
    "ExecuteTime": {
     "end_time": "2017-12-12T13:29:50.964019Z",
     "start_time": "2017-12-12T13:29:46.540Z"
    }
   },
   "outputs": [],
   "source": [
    "# check results so far\n",
    "plt.figure()\n",
    "ax1 = plt.subplot(211)\n",
    "eda.plot()\n",
    "label.plot()\n",
    "\n",
    "plt.subplot(212, sharex = ax1)\n",
    "driver.plot()\n",
    "phasic.plot()\n",
    "plt.grid()\n",
    "plt.show()"
   ]
  },
  {
   "cell_type": "markdown",
   "metadata": {},
   "source": [
    "** Step 3: Physiological Indicators **"
   ]
  },
  {
   "cell_type": "code",
   "execution_count": 35,
   "metadata": {
    "ExecuteTime": {
     "end_time": "2017-12-12T13:29:50.964697Z",
     "start_time": "2017-12-12T13:29:46.546Z"
    }
   },
   "outputs": [],
   "source": [
    "#fixed length windowing\n",
    "fixed_length = ph.FixedSegments(step = 5, width = 20, labels = label)\n",
    "\n",
    "# we use the preset indicators for the phasic signal.\n",
    "# We need to define the minimum amplitude of the peaks that will be considered\n",
    "PHA_ind, col_names = ph.fmap(fixed_length, ph.preset_phasic(delta=0.02), phasic)"
   ]
  },
  {
   "cell_type": "code",
   "execution_count": 36,
   "metadata": {
    "ExecuteTime": {
     "end_time": "2017-12-12T13:29:50.965429Z",
     "start_time": "2017-12-12T13:29:46.548Z"
    }
   },
   "outputs": [],
   "source": [
    "## Box-Whisker plot\n",
    "## extract column with the labels for each window\n",
    "label_w = PHA_ind[:, np.where(col_names == 'label')[0]]\n",
    "\n",
    "## extract column with the PksMean values\n",
    "## computed from each window\n",
    "pksmean_w = PHA_ind[:, np.where(col_names == 'pha_PeaksMean')[0]]\n",
    "\n",
    "pksmean_image1 = pksmean_w[np.where(label_w==1)[0]]\n",
    "pksmean_image2 = pksmean_w[np.where(label_w==2)[0]]\n",
    "\n",
    "## create a box and whisker plot \n",
    "## to compate the distibution of the RRmean indicator\n",
    "plt.boxplot([pksmean_image1, pksmean_image2], \n",
    "            labels=['image1', 'image2'])\n",
    "plt.show()"
   ]
  },
  {
   "cell_type": "code",
   "execution_count": null,
   "metadata": {},
   "outputs": [],
   "source": []
  }
 ],
 "metadata": {
  "celltoolbar": "Raw Cell Format",
  "kernelspec": {
   "display_name": "Python 3",
   "language": "python",
   "name": "python3"
  },
  "language_info": {
   "codemirror_mode": {
    "name": "ipython",
    "version": 3
   },
   "file_extension": ".py",
   "mimetype": "text/x-python",
   "name": "python",
   "nbconvert_exporter": "python",
   "pygments_lexer": "ipython3",
   "version": "3.6.8"
  }
 },
 "nbformat": 4,
 "nbformat_minor": 2
}
