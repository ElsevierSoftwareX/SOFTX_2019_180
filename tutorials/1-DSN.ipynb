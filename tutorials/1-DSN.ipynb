{
 "cells": [
  {
   "cell_type": "code",
   "execution_count": 2,
   "metadata": {
    "collapsed": true,
    "deletable": true,
    "editable": true
   },
   "outputs": [],
   "source": [
    "# import packages\n",
    "import numpy as np\n",
    "import matplotlib.pyplot as plt\n",
    "import pyphysio as ph"
   ]
  },
  {
   "cell_type": "code",
   "execution_count": 3,
   "metadata": {
    "collapsed": true,
    "deletable": true,
    "editable": true
   },
   "outputs": [
    {
     "name": "stdout",
     "output_type": "stream",
     "text": [
      "Using matplotlib backend: Qt5Agg\n"
     ]
    }
   ],
   "source": [
    "%matplotlib auto"
   ]
  },
  {
   "cell_type": "code",
   "execution_count": 4,
   "metadata": {},
   "outputs": [],
   "source": [
    "ecg = ph.from_pickle('/home/bizzego/UniTn/data/nicola/pkl/ecg/L21_M.pkl')\n",
    "eda = ph.from_pickle('/home/bizzego/UniTn/data/nicola/pkl/eda/L21_M.pkl')\n",
    "emg = ph.from_pickle('/home/bizzego/UniTn/data/nicola/pkl/emg/L21_M.pkl')"
   ]
  },
  {
   "cell_type": "code",
   "execution_count": 5,
   "metadata": {
    "collapsed": false,
    "deletable": true,
    "editable": true
   },
   "outputs": [
    {
     "data": {
      "text/plain": [
       "[<matplotlib.lines.Line2D at 0x7f577473e160>]"
      ]
     },
     "execution_count": 5,
     "metadata": {},
     "output_type": "execute_result"
    }
   ],
   "source": [
    "# plot\n",
    "ax1 = plt.subplot(311)\n",
    "ecg.plot()\n",
    "plt.subplot(312, sharex=ax1)\n",
    "eda.plot()\n",
    "plt.subplot(313, sharex=ax1)\n",
    "emg.plot()"
   ]
  },
  {
   "cell_type": "code",
   "execution_count": null,
   "metadata": {
    "collapsed": false,
    "deletable": true,
    "editable": true
   },
   "outputs": [],
   "source": [
    "# resampling\n",
    "ecg_128 = ecg.resample(fout=128)\n",
    "\n",
    "plt.figure()\n",
    "ecg.plot() # plotting the original signal\n",
    "ecg_128.plot('or') # plotting the samples of the downsampled signal\n",
    "plt.xlim((40,42)) # setting the range of the x axis between 40 and 42 seconds"
   ]
  },
  {
   "cell_type": "code",
   "execution_count": null,
   "metadata": {},
   "outputs": [],
   "source": [
    "f, psd = ph.PSD(method='welch')(ecg)"
   ]
  },
  {
   "cell_type": "code",
   "execution_count": null,
   "metadata": {},
   "outputs": [],
   "source": [
    "plt.figure()\n",
    "plt.plot(f, psd)\n",
    "ax = plt.gca()\n",
    "ax.set_yscale('log')"
   ]
  },
  {
   "cell_type": "code",
   "execution_count": null,
   "metadata": {},
   "outputs": [],
   "source": [
    "lowpass_filter = ph.IIRFilter(fp=25, fs=30, ftype='ellip')"
   ]
  },
  {
   "cell_type": "code",
   "execution_count": null,
   "metadata": {},
   "outputs": [],
   "source": [
    "ecg_lp = lowpass_filter(ecg)\n",
    "\n",
    "f, psd_lp = ph.PSD(method='welch')(ecg_lp)\n",
    "plt.plot(f, psd_lp)"
   ]
  },
  {
   "cell_type": "code",
   "execution_count": null,
   "metadata": {},
   "outputs": [],
   "source": [
    "plt.figure()\n",
    "ecg.plot()\n",
    "ecg_lp.plot()"
   ]
  },
  {
   "cell_type": "code",
   "execution_count": null,
   "metadata": {},
   "outputs": [],
   "source": [
    "highpass_filter = ph.IIRFilter(fp=5, fs=2, ftype='ellip')"
   ]
  },
  {
   "cell_type": "code",
   "execution_count": null,
   "metadata": {},
   "outputs": [],
   "source": [
    "ecg_hp = highpass_filter(ecg_lp)\n",
    "\n",
    "f, psd_hp = ph.PSD(method='fft')(ecg_hp)\n",
    "\n",
    "plt.figure()\n",
    "plt.plot(f, psd)\n",
    "plt.plot(f, psd_lp)\n",
    "plt.plot(f, psd_hp)\n",
    "ax = plt.gca()\n",
    "ax.set_yscale('log')"
   ]
  },
  {
   "cell_type": "code",
   "execution_count": null,
   "metadata": {},
   "outputs": [],
   "source": [
    "ecg.plot()\n",
    "ecg_lp.plot()\n",
    "ecg_hp.plot()"
   ]
  },
  {
   "cell_type": "code",
   "execution_count": null,
   "metadata": {},
   "outputs": [],
   "source": [
    "ibi = ph.BeatFromECG()(ecg_hp)"
   ]
  },
  {
   "cell_type": "code",
   "execution_count": null,
   "metadata": {},
   "outputs": [],
   "source": [
    "plt.figure()\n",
    "ax1 = plt.subplot(211)\n",
    "ecg_hp.plot()\n",
    "plt.vlines(ibi.get_times(), ecg_hp.min(), ecg_hp.max(), 'red')\n",
    "plt.subplot(212, sharex=ax1)\n",
    "ibi.plot('o')\n",
    "plt.vlines(ibi.get_times(), ibi.min(), ibi.max(), 'red')\n",
    "\n"
   ]
  },
  {
   "cell_type": "code",
   "execution_count": null,
   "metadata": {},
   "outputs": [],
   "source": [
    "fixed_length = ph.FixedSegments(step = 30, width = 60)\n",
    "\n",
    "results, names = ph.fmap(fixed_length, ph.preset_hrv_fd(), ibi.resample(4))"
   ]
  },
  {
   "cell_type": "code",
   "execution_count": null,
   "metadata": {},
   "outputs": [],
   "source": [
    "print(np.c_[np.arange(len(names)), names])"
   ]
  },
  {
   "cell_type": "code",
   "execution_count": null,
   "metadata": {},
   "outputs": [],
   "source": [
    "plt.plot(results[:,5]) #HF indicator, associated to parasympathetic"
   ]
  }
 ],
 "metadata": {
  "kernelspec": {
   "display_name": "Python 3",
   "language": "python",
   "name": "python3"
  },
  "language_info": {
   "codemirror_mode": {
    "name": "ipython",
    "version": 3
   },
   "file_extension": ".py",
   "mimetype": "text/x-python",
   "name": "python",
   "nbconvert_exporter": "python",
   "pygments_lexer": "ipython3",
   "version": "3.7.2"
  }
 },
 "nbformat": 4,
 "nbformat_minor": 2
}
