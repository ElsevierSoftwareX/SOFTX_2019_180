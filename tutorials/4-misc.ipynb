{
 "cells": [
  {
   "cell_type": "markdown",
   "metadata": {
    "deletable": true,
    "editable": true
   },
   "source": [
    "This is a tutorial for Python 2.7\n",
    "\n",
    "# pyphysio library\n",
    "\n",
    "## 4. Miscellaneous\n",
    "\n",
    "In this tutorial we consider other functions and techniques for the advanced usage of pyphysio.\n",
    "\n",
    "In particular we present the following topics\n",
    "1. More about segmentation: custom segmentation and label management"
   ]
  },
  {
   "cell_type": "markdown",
   "metadata": {
    "collapsed": true,
    "deletable": true,
    "editable": true
   },
   "source": [
    "### 4.1 More about segmentation"
   ]
  },
  {
   "cell_type": "markdown",
   "metadata": {
    "deletable": true,
    "editable": true
   },
   "source": [
    "We reproduce here the main steps for the processing of an ECG signal"
   ]
  },
  {
   "cell_type": "code",
   "execution_count": null,
   "metadata": {
    "collapsed": true,
    "deletable": true,
    "editable": true
   },
   "outputs": [],
   "source": [
    "# import libraries\n",
    "from __future__ import division\n",
    "import numpy as np\n",
    "import os\n",
    "import matplotlib.pyplot as plt\n",
    "\n",
    "%matplotlib inline \n",
    "\n",
    "# import all pyphysio classes and methods\n",
    "import pyphysio as ph\n",
    "\n",
    "# import data and creating a signal\n",
    "ecg_data = ph.TestData.ecg()\n",
    "\n",
    "fsamp = 2048\n",
    "ecg = ph.EvenlySignal(values = ecg_data, sampling_freq = fsamp, signal_nature = 'ecg')\n",
    "\n",
    "# Step 1: Filtering and preprocessing\n",
    "# (optional) IIR filtering : remove high frequency noise\n",
    "ecg = ph.IIRFilter(fp=45, fs = 50, ftype='ellip')(ecg)\n",
    "\n",
    "# normalization : normalize data\n",
    "ecg = ph.Normalize(norm_method='standard')(ecg)\n",
    "\n",
    "# resampling : increase the sampling frequency by cubic interpolation\n",
    "ecg = ecg.resample(fout=4096, kind='cubic')\n",
    "fsamp = 4096\n",
    "\n",
    "\n",
    "# Step 2: Information Extraction\n",
    "ibi = ph.BeatFromECG()(ecg)\n",
    "\n",
    "# (optional) edit IBI\n",
    "# ibi_ok = ph.Annotate(ecg, ibi)()\n",
    "\n",
    "# Step 3: Computation of physiological indicators\n",
    "\n",
    "# create fake label\n",
    "label = np.zeros(1200)\n",
    "label[300:600] = 1\n",
    "label[900:1200] = 2\n",
    "\n",
    "label = ph.EvenlySignal(label, sampling_freq = 10, signal_nature = 'label')\n",
    "\n",
    "# define a list of indicators we want to compute\n",
    "hrv_indicators = [ph.Mean(name='RRmean'), ph.StDev(name='RRstd'), ph.RMSSD(name='rmsSD')]"
   ]
  },
  {
   "cell_type": "markdown",
   "metadata": {
    "deletable": true,
    "editable": true
   },
   "source": [
    "#### 4.1.1 Creation of custom segments\n",
    "\n",
    "To create custom segments we need to define the start and stop instants of each segment:"
   ]
  },
  {
   "cell_type": "code",
   "execution_count": null,
   "metadata": {
    "collapsed": true,
    "deletable": true,
    "editable": true
   },
   "outputs": [],
   "source": [
    "t_start = [0.5, 15, 98.7]\n",
    "t_stop = [5, 21, 110.4]"
   ]
  },
  {
   "cell_type": "markdown",
   "metadata": {
    "deletable": true,
    "editable": true
   },
   "source": [
    "And then use the function `CustomSegments` to use the defined instants for the segmentation:"
   ]
  },
  {
   "cell_type": "code",
   "execution_count": null,
   "metadata": {
    "collapsed": true,
    "deletable": true,
    "editable": true
   },
   "outputs": [],
   "source": [
    "#custom windows\n",
    "custom_segments = ph.CustomSegments(begins = t_start, ends = t_stop)"
   ]
  },
  {
   "cell_type": "markdown",
   "metadata": {
    "deletable": true,
    "editable": true
   },
   "source": [
    "Then the processing can be continued as usual:"
   ]
  },
  {
   "cell_type": "code",
   "execution_count": null,
   "metadata": {
    "collapsed": false,
    "deletable": true,
    "editable": true,
    "scrolled": true
   },
   "outputs": [],
   "source": [
    "indicators, col_names = ph.fmap(custom_segments, hrv_indicators, ibi)\n",
    "\n",
    "print(indicators)"
   ]
  },
  {
   "cell_type": "markdown",
   "metadata": {
    "deletable": true,
    "editable": true
   },
   "source": [
    "Note that we obtained three rows, corresponding to the three custom segments we defined above."
   ]
  },
  {
   "cell_type": "markdown",
   "metadata": {
    "deletable": true,
    "editable": true
   },
   "source": [
    "#### 4.1.2 Creation of segments using the information about the experiment sessions\n",
    "\n",
    "We can use the information about the experiment sessions to automatically segment the signal in order to have a unique segment for each session:"
   ]
  },
  {
   "cell_type": "code",
   "execution_count": null,
   "metadata": {
    "collapsed": true,
    "deletable": true,
    "editable": true
   },
   "outputs": [],
   "source": [
    "#custom windows\n",
    "label_segments = ph.LabelSegments(labels=label)"
   ]
  },
  {
   "cell_type": "markdown",
   "metadata": {
    "deletable": true,
    "editable": true
   },
   "source": [
    "Then the processing can be continued as usual:"
   ]
  },
  {
   "cell_type": "code",
   "execution_count": null,
   "metadata": {
    "collapsed": false,
    "deletable": true,
    "editable": true,
    "scrolled": true
   },
   "outputs": [],
   "source": [
    "indicators, col_names = ph.fmap(label_segments, hrv_indicators, ibi)\n",
    "print(indicators[:, :4])"
   ]
  },
  {
   "cell_type": "markdown",
   "metadata": {
    "deletable": true,
    "editable": true
   },
   "source": [
    "Note that we obtained four rows, corresponding to the four different sessions of the experiment."
   ]
  },
  {
   "cell_type": "markdown",
   "metadata": {
    "deletable": true,
    "editable": true
   },
   "source": [
    "#### 4.1.3 Management of the labels\n",
    "\n",
    "In case we want to keep track of the portion of the experiment each segment belongs to, we should add the information associated to the experiment sessions to the segmentation function (as saw in 2.1 and 2.2, Step 3).\n",
    "\n",
    "For instance, in case of a custom segmentation:"
   ]
  },
  {
   "cell_type": "code",
   "execution_count": null,
   "metadata": {
    "collapsed": true,
    "deletable": true,
    "editable": true
   },
   "outputs": [],
   "source": [
    "t_start = [0.5, 15, 78.7] # we changed the start of the third segment (98.7 --> 78.7)\n",
    "t_stop = [10, 21, 110.4]\n",
    "\n",
    "custom_segments = ph.CustomSegments(begins = t_start, ends = t_stop, labels = label)"
   ]
  },
  {
   "cell_type": "markdown",
   "metadata": {
    "deletable": true,
    "editable": true
   },
   "source": [
    "Therefore, the third column of the matrix obtained from the computation of the indicators will contain the information about the session the segment was taken from."
   ]
  },
  {
   "cell_type": "code",
   "execution_count": null,
   "metadata": {
    "collapsed": false,
    "deletable": true,
    "editable": true
   },
   "outputs": [],
   "source": [
    "indicators, col_names = ph.fmap(custom_segments, hrv_indicators, ibi)\n",
    "\n",
    "print(indicators[:, :3])"
   ]
  },
  {
   "cell_type": "markdown",
   "metadata": {
    "deletable": true,
    "editable": true
   },
   "source": [
    "Note that we obtain only two segments and we miss the last one.\n",
    "This is because, according to the information about the experiment sessions, the third segment belongs to two different sessions:"
   ]
  },
  {
   "cell_type": "code",
   "execution_count": null,
   "metadata": {
    "collapsed": false,
    "deletable": true,
    "editable": true
   },
   "outputs": [],
   "source": [
    "plt.figure()\n",
    "label.plot() #plot the label signal\n",
    "plt.vlines(t_start, 0, 2, 'g') #plot the start of the segments, green vertical lines\n",
    "plt.vlines(t_stop, 0, 2, 'r') #plot the end of the segments, red vertical lines"
   ]
  },
  {
   "cell_type": "markdown",
   "metadata": {
    "deletable": true,
    "editable": true
   },
   "source": [
    "In this special case the function cannot assign the window to a specific experimental session.\n",
    "In addition, a signal might end before the end of a segment (e.g. due to disconnection).\n",
    "\n",
    "There are two parameters that can be used ina segmentation function to handle these special cases:\n",
    "* **`drop_mixed`**: whether to drop the segments that present mixed values of the labels. It is True by default;\n",
    "* **`drop_cut`**: whether to drop the segments in which the segmented signal ends before the end of the segment. It is True by default.\n",
    "\n",
    "Some examples below:"
   ]
  },
  {
   "cell_type": "code",
   "execution_count": null,
   "metadata": {
    "collapsed": false,
    "deletable": true,
    "editable": true
   },
   "outputs": [],
   "source": [
    "t_start = [0.5, 15, 78.7]\n",
    "t_stop = [10, 21, 110.4]\n",
    "\n",
    "# drop_mixed = False --> keep also the segments belonging to different experiment sessions\n",
    "custom_segments = ph.CustomSegments(begins = t_start, ends = t_stop, labels = label, drop_mixed=False)\n",
    "indicators, col_names = ph.fmap(custom_segments, hrv_indicators, ibi)\n",
    "\n",
    "print(indicators[:, :3])"
   ]
  },
  {
   "cell_type": "code",
   "execution_count": null,
   "metadata": {
    "collapsed": false,
    "deletable": true,
    "editable": true
   },
   "outputs": [],
   "source": [
    "t_start = [0.5, 15, 78.7]\n",
    "t_stop = [10, 21, 130.4] # endo of the last segments has been changed: 110.4 --> 130.40\n",
    "\n",
    "# drop_mixed = False --> keep also the segments belonging to different experiment sessions\n",
    "# drop_cut = True (default) --> drop the segments in which the signal ends before the end of the segment\n",
    "custom_segments = ph.CustomSegments(begins = t_start, ends = t_stop, labels = label, drop_mixed=False)\n",
    "indicators, col_names = ph.fmap(custom_segments, hrv_indicators, ibi)\n",
    "\n",
    "print(indicators[:, :3])"
   ]
  },
  {
   "cell_type": "code",
   "execution_count": null,
   "metadata": {
    "collapsed": false,
    "deletable": true,
    "editable": true
   },
   "outputs": [],
   "source": [
    "t_start = [0.5, 15, 78.7]\n",
    "t_stop = [10, 21, 130.4] # endo of the last segments has been changed: 110.4 --> 130.40\n",
    "\n",
    "# drop_mixed = False --> keep also the segments belonging to different experiment sessions\n",
    "# drop_cut = False --> keep also the segments in which the signal ends before the end of the segment\n",
    "custom_segments = ph.CustomSegments(begins = t_start, ends = t_stop, labels = label, drop_mixed=False, drop_cut=False)\n",
    "indicators, col_names = ph.fmap(custom_segments, hrv_indicators, ibi)\n",
    "\n",
    "print(indicators[:, :3])"
   ]
  },
  {
   "cell_type": "markdown",
   "metadata": {
    "deletable": true,
    "editable": true
   },
   "source": [
    "### 4.2 Use pickle to save and load signals\n",
    "\n",
    "You may find useful to store the signals resulting from the intermediate results of the signal processing procedure.\n",
    "\n",
    "`pyphysio` provides the **`to_csv(FILENAME)`** method to save a signal as a .csv file:"
   ]
  },
  {
   "cell_type": "code",
   "execution_count": null,
   "metadata": {
    "collapsed": true,
    "deletable": true,
    "editable": true
   },
   "outputs": [],
   "source": [
    "SAVEDIR = '/home/andrea' # set where you will save the data!\n",
    "os.chdir(SAVEDIR) \n",
    "\n",
    "ibi.to_csv('IBI.csv')"
   ]
  },
  {
   "cell_type": "markdown",
   "metadata": {
    "deletable": true,
    "editable": true
   },
   "source": [
    "However the process of load back the csv file into a Signal to continue the processing is not straightforward.\n",
    "\n",
    "It is therefore suggested, especially when the signals will not be analysed with other software (e.g. R, spreadsheets etc), to use:\n",
    "* **`to_pickle(FILENAME)`** function to save the signal in a binary-compressed file;\n",
    "* **`from_pickle(FILENAME)`** to load the saved file back into another script."
   ]
  },
  {
   "cell_type": "code",
   "execution_count": null,
   "metadata": {
    "collapsed": false,
    "deletable": true,
    "editable": true
   },
   "outputs": [],
   "source": [
    "SAVEDIR = '/home/andrea' # set where you will save the data!\n",
    "os.chdir(SAVEDIR) \n",
    "\n",
    "ibi.to_pickle('IBI.pkl')\n",
    "\n",
    "ibi2 = ph.from_pickle('IBI.pkl')\n",
    "\n",
    "ax1 = plt.subplot(211)\n",
    "ibi.plot()\n",
    "plt.ylabel('ibi')\n",
    "plt.subplot(212, sharex=ax1)\n",
    "ibi2.plot()\n",
    "plt.ylabel('ibi2')"
   ]
  },
  {
   "cell_type": "markdown",
   "metadata": {
    "deletable": true,
    "editable": true
   },
   "source": [
    "### [TODO]: 4.x Creation of custom processing functions\n",
    "\n",
    "In addition to the functions provided by pyphysio, you can also define your custom processing algorithms.\n",
    "You will need to write a function with the following syntax:\n",
    "\n",
    "```\n",
    "\n",
    "```"
   ]
  }
 ],
 "metadata": {
  "celltoolbar": "Raw Cell Format",
  "kernelspec": {
   "display_name": "Python 3",
   "language": "python",
   "name": "python3"
  },
  "language_info": {
   "codemirror_mode": {
    "name": "ipython",
    "version": 3
   },
   "file_extension": ".py",
   "mimetype": "text/x-python",
   "name": "python",
   "nbconvert_exporter": "python",
   "pygments_lexer": "ipython3",
   "version": "3.6.0"
  }
 },
 "nbformat": 4,
 "nbformat_minor": 2
}
