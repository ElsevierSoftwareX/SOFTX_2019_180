{
 "cells": [
  {
   "cell_type": "markdown",
   "metadata": {},
   "source": [
    "This is a tutorial for Python 2.7"
   ]
  },
  {
   "cell_type": "markdown",
   "metadata": {},
   "source": [
    "# pyphysio library"
   ]
  },
  {
   "cell_type": "markdown",
   "metadata": {},
   "source": [
    "## Signals and Algorithms"
   ]
  },
  {
   "cell_type": "markdown",
   "metadata": {},
   "source": [
    "Signal and Algorithm are the two main classes in pyphysio."
   ]
  },
  {
   "cell_type": "markdown",
   "metadata": {},
   "source": [
    "### Signals in pyphysio"
   ]
  },
  {
   "cell_type": "markdown",
   "metadata": {},
   "source": [
    "Description of how signals are represented in pyphysio\n",
    "1. values and times\n",
    "2. evenly and unevenly\n",
    "3. other properties"
   ]
  },
  {
   "cell_type": "code",
   "execution_count": 1,
   "metadata": {
    "collapsed": false
   },
   "outputs": [],
   "source": [
    "# import libraries\n",
    "from __future__ import division\n",
    "import numpy as np\n",
    "import os\n",
    "import matplotlib.pyplot as plt\n",
    "%matplotlib qt\n",
    "\n",
    "# import the Signal classes\n",
    "from pyphysio import EvenlySignal, UnevenlySignal"
   ]
  },
  {
   "cell_type": "markdown",
   "metadata": {
    "collapsed": true
   },
   "source": [
    "#### EvenlySignal"
   ]
  },
  {
   "cell_type": "code",
   "execution_count": 19,
   "metadata": {
    "collapsed": true
   },
   "outputs": [],
   "source": [
    "# create a signal\n",
    "\n",
    "## create fake data\n",
    "np.random.seed(4)\n",
    "signal_values = np.random.uniform(0, 1, size = 1000)\n",
    "\n",
    "## set the sampling frequency\n",
    "fsamp = 100 # Hz\n",
    "\n",
    "## set the starting time\n",
    "tstart = 100 # s\n",
    "\n",
    "## create the Evenly signal\n",
    "s_fake = EvenlySignal(values = signal_values, sampling_freq = fsamp, signal_nature = 'fake', start_time = tstart)"
   ]
  },
  {
   "cell_type": "code",
   "execution_count": 20,
   "metadata": {
    "collapsed": false
   },
   "outputs": [
    {
     "data": {
      "text/plain": [
       "[<matplotlib.lines.Line2D at 0x7f55c84c4c10>]"
      ]
     },
     "execution_count": 20,
     "metadata": {},
     "output_type": "execute_result"
    }
   ],
   "source": [
    "## plot\n",
    "s_fake.plot()\n",
    "\n",
    "# signal is starting from x"
   ]
  },
  {
   "cell_type": "code",
   "execution_count": 32,
   "metadata": {
    "collapsed": false
   },
   "outputs": [
    {
     "name": "stdout",
     "output_type": "stream",
     "text": [
      "Sampling frequency: 100\n",
      "Start time:         100\n",
      "End time:           110.0\n",
      "Duration:           10.0\n",
      "Signal nature:      fake\n",
      "First ten instants: [ 100.    100.01  100.02  100.03  100.04  100.05  100.06  100.07  100.08\n",
      "  100.09]\n"
     ]
    }
   ],
   "source": [
    "# chech signal properties\n",
    "print('Sampling frequency: {}'.format( s_fake.get_sampling_freq() ))\n",
    "print('Start time:         {}'.format( s_fake.get_start_time() ))\n",
    "print('End time:           {}'.format( s_fake.get_end_time() ))\n",
    "print('Duration:           {}'.format( s_fake.get_duration() ))\n",
    "print('Signal nature:      {}'.format( s_fake.get_signal_nature() ))\n",
    "print('First ten instants: {}'.format( s_fake.get_times()[0:10] ))"
   ]
  },
  {
   "cell_type": "code",
   "execution_count": 33,
   "metadata": {
    "collapsed": true
   },
   "outputs": [
    {
     "data": {
      "text/plain": [
       "<signal: fake, start_time: 100 freq:100Hz>\n",
       "array([  9.67029839e-01,   5.47232249e-01,   9.72684360e-01,\n",
       "         7.14815994e-01,   6.97728825e-01,   2.16089496e-01,\n",
       "         9.76274455e-01,   6.23025520e-03,   2.52982362e-01,\n",
       "         4.34791532e-01,   7.79382922e-01,   1.97685075e-01,\n",
       "         8.62993236e-01,   9.83400677e-01,   1.63842241e-01,\n",
       "         5.97333944e-01,   8.98609767e-03,   3.86571283e-01,\n",
       "         4.41600579e-02,   9.56652968e-01,   4.36146647e-01,\n",
       "         9.48977307e-01,   7.86305986e-01,   8.66289299e-01,\n",
       "         1.73165421e-01,   7.49485870e-02,   6.00742721e-01,\n",
       "         1.67972184e-01,   7.33380168e-01,   4.08443860e-01,\n",
       "         5.27908823e-01,   9.37571584e-01,   5.21696122e-01,\n",
       "         1.08193383e-01,   1.58223407e-01,   5.45202652e-01,\n",
       "         5.24404080e-01,   6.37610244e-01,   4.01495444e-01,\n",
       "         6.49805109e-01,   3.96900003e-01,   6.23916114e-01,\n",
       "         7.67404967e-01,   1.78973910e-01,   3.75575769e-01,\n",
       "         5.02533059e-01,   6.86667080e-01,   2.53679649e-01,\n",
       "         5.54740863e-01,   6.24930844e-01,   8.95501166e-01,\n",
       "         3.62853588e-01,   6.37557073e-01,   1.91446402e-01,\n",
       "         4.97794115e-01,   1.82445405e-01,   9.18383039e-01,\n",
       "         4.31822071e-01,   8.30188102e-01,   4.16776305e-01,\n",
       "         9.04667589e-01,   4.04825217e-01,   3.31174503e-01,\n",
       "         5.72138770e-01,   8.45443649e-01,   8.61014312e-01,\n",
       "         5.95688117e-01,   8.46616110e-02,   5.97266607e-01,\n",
       "         2.45453709e-01,   7.32593449e-01,   8.94651292e-01,\n",
       "         5.14733971e-01,   6.03563510e-01,   6.50678124e-02,\n",
       "         5.40074730e-01,   1.29186784e-01,   6.14562846e-01,\n",
       "         3.63650347e-01,   7.67758034e-01,   4.85341364e-02,\n",
       "         1.09818118e-01,   6.84023215e-01,   5.14653697e-01,\n",
       "         5.71641372e-01,   8.43706994e-01,   4.87737639e-01,\n",
       "         8.10144422e-01,   5.10243629e-01,   9.26720693e-01,\n",
       "         6.66927772e-01,   1.48726839e-01,   3.64553175e-01,\n",
       "         8.65774916e-01,   3.50285211e-01,   1.89025759e-01,\n",
       "         4.72621309e-01,   3.92781175e-01,   6.18929927e-01,\n",
       "         4.36766292e-01,   2.60922157e-01,   4.12472212e-01,\n",
       "         4.19034035e-01,   9.02421856e-01,   9.79616262e-01,\n",
       "         6.23568839e-01,   8.31841226e-02,   7.32998718e-01,\n",
       "         6.78685402e-01,   8.26022867e-01,   3.47451337e-01,\n",
       "         5.88800942e-02,   6.11821816e-01,   1.24014618e-01,\n",
       "         7.59529529e-01,   7.94423318e-01,   4.08626787e-01,\n",
       "         9.43797506e-01,   1.73779794e-01,   9.42585850e-01,\n",
       "         4.65489675e-01,   7.62993641e-01,   7.52820195e-01,\n",
       "         9.81209919e-01,   9.73277994e-01,   4.00911246e-02,\n",
       "         1.59712775e-02,   5.43290315e-01,   3.38776179e-02,\n",
       "         6.57484636e-01,   5.34902602e-01,   6.66558396e-01,\n",
       "         4.41340704e-01,   2.72471459e-01,   9.49668940e-01,\n",
       "         7.28269440e-01,   6.32393727e-03,   9.93277649e-02,\n",
       "         6.31692245e-01,   2.88036827e-01,   4.07621677e-01,\n",
       "         7.81531124e-01,   3.54145538e-01,   9.25808597e-01,\n",
       "         7.20452121e-01,   5.51926441e-01,   1.80964836e-01,\n",
       "         4.09591390e-01,   7.62881790e-01,   9.90796819e-01,\n",
       "         7.36523741e-02,   1.34752607e-01,   7.40044730e-01,\n",
       "         8.33781370e-01,   8.87728574e-02,   8.29417950e-01,\n",
       "         7.86732314e-01,   6.88221273e-01,   3.39926416e-01,\n",
       "         4.44540665e-01,   3.66336139e-01,   8.40466065e-01,\n",
       "         3.28322137e-01,   3.22574976e-01,   9.35290857e-01,\n",
       "         9.19987348e-01,   9.68674125e-01,   8.07548953e-01,\n",
       "         8.69156176e-02,   9.09105516e-02,   5.57082075e-01,\n",
       "         8.56183771e-01,   8.84197864e-01,   6.36848673e-01,\n",
       "         9.55804594e-01,   1.51885601e-01,   2.21580930e-01,\n",
       "         3.32495167e-01,   2.56804921e-01,   3.12205032e-01,\n",
       "         1.18445516e-01,   3.75340143e-01,   2.97739967e-02,\n",
       "         5.37781666e-01,   9.45828295e-01,   4.45125193e-01,\n",
       "         6.24153244e-01,   6.11812349e-01,   9.33379168e-01,\n",
       "         7.34519053e-01,   8.24820928e-01,   3.35849410e-01,\n",
       "         9.07464646e-01,   1.85209234e-01,   4.07982269e-01,\n",
       "         7.37451973e-01,   3.33456382e-01,   8.86134231e-01,\n",
       "         8.60655862e-01,   1.65118120e-01,   2.30745942e-01,\n",
       "         5.24348787e-02,   8.58720848e-01,   3.39224908e-01,\n",
       "         3.93246728e-01,   2.70365482e-01,   1.23227889e-01,\n",
       "         4.56939242e-01,   2.34717053e-01,   5.63153235e-01,\n",
       "         2.02765048e-01,   5.11387282e-01,   9.48325884e-01,\n",
       "         3.71833706e-01,   9.54219089e-01,   5.72059163e-02,\n",
       "         5.48805118e-01,   5.99797491e-01,   9.61753318e-01,\n",
       "         9.25185131e-01,   5.10906130e-01,   7.59486140e-01,\n",
       "         9.75905282e-01,   7.36500264e-01,   9.53955974e-01,\n",
       "         9.38893979e-01,   4.81767161e-01,   6.59894231e-01,\n",
       "         1.79849633e-01,   4.37023472e-01,   8.66124189e-01,\n",
       "         5.77232070e-01,   2.79453604e-01,   1.22789253e-01,\n",
       "         2.31855202e-01,   1.24992565e-01,   2.33780430e-01,\n",
       "         3.83580010e-01,   4.28985309e-02,   8.38710697e-01,\n",
       "         4.03810262e-01,   5.67368964e-01,   6.36134015e-01,\n",
       "         1.32842006e-01,   8.27076118e-02,   1.56532213e-01,\n",
       "         9.86224723e-01,   1.04515242e-01,   4.22655921e-01,\n",
       "         8.75062347e-01,   5.84275653e-01,   1.75336714e-02,\n",
       "         8.88702581e-01,   3.84147663e-01,   1.67730208e-01,\n",
       "         3.37179831e-01,   5.94148132e-01,   3.77451800e-02,\n",
       "         6.43308521e-01,   6.10106400e-01,   2.28793922e-01,\n",
       "         4.26017760e-01,   1.93514963e-01,   2.13298395e-02,\n",
       "         5.83919874e-01,   4.45357045e-01,   8.42056648e-01,\n",
       "         1.99055654e-01,   4.40599047e-01,   6.67454533e-01,\n",
       "         6.83346300e-02,   3.55336629e-01,   6.86036303e-01,\n",
       "         2.45071897e-01,   3.63977322e-01,   5.77363699e-01,\n",
       "         4.09435592e-01,   8.76781503e-01,   8.59881278e-01,\n",
       "         8.33976893e-01,   4.26271167e-01,   1.90129996e-01,\n",
       "         6.38863103e-01,   4.28154981e-01,   5.05807071e-01,\n",
       "         6.51051558e-01,   9.39941535e-01,   8.08249727e-01,\n",
       "         1.23216633e-01,   9.07462209e-01,   6.77067333e-01,\n",
       "         3.19425195e-01,   7.29992989e-01,   4.74963919e-01,\n",
       "         5.61032564e-01,   5.71824694e-01,   1.51489249e-01,\n",
       "         3.61982118e-01,   4.35734741e-01,   5.77250992e-02,\n",
       "         7.23732511e-01,   3.26804769e-01,   4.76852866e-01,\n",
       "         9.48057805e-01,   8.67968329e-01,   2.73096177e-01,\n",
       "         4.00271703e-01,   5.71234204e-01,   1.19481918e-01,\n",
       "         7.96184379e-01,   3.23751960e-01,   1.15628654e-01,\n",
       "         7.07199849e-01,   5.14908238e-01,   2.71004010e-02,\n",
       "         5.62783613e-01,   7.64208844e-01,   3.10426680e-02,\n",
       "         6.57587621e-01,   2.50141911e-01,   4.35276308e-01,\n",
       "         7.21674201e-02,   5.32228523e-01,   9.38828909e-01,\n",
       "         3.04815708e-01,   6.35373790e-02,   8.48226327e-01,\n",
       "         9.47593565e-01,   4.91070751e-01,   9.08509484e-01,\n",
       "         9.08640413e-01,   7.34519180e-01,   8.31327332e-01,\n",
       "         1.62004234e-01,   8.45539100e-01,   4.15642324e-01,\n",
       "         2.86687036e-01,   5.61862270e-01,   8.57493235e-01,\n",
       "         4.33168654e-01,   7.77687679e-02,   2.87278280e-01,\n",
       "         2.85310932e-01,   6.97051438e-01,   9.55065938e-01,\n",
       "         5.50147428e-01,   2.53612526e-01,   7.03129880e-01,\n",
       "         1.47727012e-01,   6.16290939e-02,   6.49007734e-01,\n",
       "         3.75752321e-01,   4.50807729e-01,   7.39824468e-02,\n",
       "         4.79687820e-01,   6.06144213e-01,   9.82511868e-01,\n",
       "         2.14698892e-02,   5.16746764e-01,   4.86767114e-01,\n",
       "         6.25141195e-01,   8.53173433e-01,   4.98032909e-01,\n",
       "         5.72581167e-01,   5.02554518e-01,   7.96442034e-01,\n",
       "         9.06935114e-01,   3.22661014e-01,   7.24397006e-01,\n",
       "         6.54755948e-01,   3.73287832e-01,   8.03495999e-01,\n",
       "         6.95053677e-01,   4.91873270e-01,   5.71922510e-01,\n",
       "         9.48939431e-01,   6.40170093e-01,   6.34891125e-01,\n",
       "         3.80639892e-01,   7.81904489e-01,   8.72383984e-01,\n",
       "         3.09490978e-01,   3.26411771e-01,   6.73196473e-01,\n",
       "         2.88854924e-01,   8.17140255e-02,   2.88099072e-01,\n",
       "         6.97078557e-01,   5.02665486e-01,   5.80063494e-01,\n",
       "         6.26237534e-01,   5.35104272e-01,   9.61303797e-01,\n",
       "         8.10663409e-01,   9.63382168e-01,   6.93344491e-01,\n",
       "         8.01714090e-01,   7.51383452e-01,   9.41097514e-01,\n",
       "         3.40452625e-01,   3.24421588e-01,   1.19213280e-02,\n",
       "         6.78081596e-02,   9.61674586e-01,   4.74927072e-01,\n",
       "         1.21637636e-01,   1.07884226e-01,   5.17600123e-01,\n",
       "         6.51501389e-01,   8.34117342e-01,   5.71445323e-01,\n",
       "         3.33902553e-01,   7.00807230e-01,   1.87692718e-01,\n",
       "         3.32791603e-01,   1.20931261e-01,   6.80689034e-01,\n",
       "         5.39651653e-01,   4.39474185e-01,   2.30266182e-01,\n",
       "         8.43691865e-01,   3.96464727e-01,   9.12299723e-01,\n",
       "         2.71793418e-01,   6.37252113e-01,   7.37481669e-01,\n",
       "         1.69273565e-01,   1.82075008e-01,   7.64656478e-01,\n",
       "         8.94156559e-02,   4.78350528e-01,   8.28235231e-02,\n",
       "         9.63749442e-01,   8.35199245e-01,   2.32374302e-01,\n",
       "         8.43418609e-01,   7.47521879e-01,   1.08446649e-01,\n",
       "         2.66902297e-01,   6.41844918e-01,   7.07146629e-01,\n",
       "         3.43620271e-01,   1.28983782e-01,   4.94869718e-01,\n",
       "         7.63992047e-01,   5.21120333e-01,   1.94398905e-01,\n",
       "         3.04341530e-01,   7.57376393e-01,   4.60700473e-01,\n",
       "         7.65243397e-01,   1.76013484e-01,   6.84928849e-01,\n",
       "         7.99581544e-01,   8.87462341e-01,   2.98326996e-01,\n",
       "         9.12155342e-01,   5.85683381e-01,   2.94167057e-01,\n",
       "         3.09569074e-02,   6.64670965e-01,   9.49401498e-01,\n",
       "         5.74500012e-01,   3.00281266e-01,   3.29762131e-01,\n",
       "         4.90671912e-01,   9.83965716e-01,   4.30546512e-01,\n",
       "         3.87205884e-01,   4.94535583e-01,   2.21715710e-01,\n",
       "         2.90745320e-01,   8.10082267e-01,   8.92875795e-01,\n",
       "         3.70224129e-01,   4.82097847e-01,   9.03507703e-01,\n",
       "         7.13417433e-01,   4.57759203e-01,   9.58118791e-01,\n",
       "         8.85457908e-01,   4.62536652e-01,   1.93418974e-01,\n",
       "         8.36056898e-01,   8.97623587e-01,   6.71956408e-01,\n",
       "         8.05388519e-01,   1.90188805e-02,   6.20623488e-01,\n",
       "         8.07020535e-01,   2.85856776e-01,   1.55371643e-01,\n",
       "         8.90457839e-01,   7.82339847e-01,   3.58218046e-01,\n",
       "         5.77670539e-01,   2.27917495e-01,   3.31314235e-01,\n",
       "         6.86599284e-01,   7.61185555e-01,   8.79618436e-01,\n",
       "         6.58899065e-01,   7.99426310e-01,   1.89556878e-01,\n",
       "         7.19098494e-01,   9.80859632e-01,   9.08778260e-01,\n",
       "         7.84287486e-01,   8.92999030e-01,   4.55082907e-01,\n",
       "         3.17729034e-01,   6.38864479e-01,   5.85487327e-01,\n",
       "         4.03580957e-02,   2.69905779e-01,   5.84450684e-01,\n",
       "         6.48993603e-02,   6.27518130e-02,   3.76375621e-01,\n",
       "         1.21173807e-01,   4.14717747e-01,   6.74880719e-01,\n",
       "         4.72234142e-01,   1.85708946e-02,   9.28514350e-01,\n",
       "         2.50936190e-01,   7.38909673e-03,   4.42559655e-01,\n",
       "         8.50604465e-01,   9.33637305e-01,   1.33188102e-01,\n",
       "         6.90973008e-02,   8.34702555e-01,   8.44238726e-01,\n",
       "         9.14882323e-01,   7.90482124e-01,   8.36376606e-01,\n",
       "         8.17747724e-01,   3.98094701e-02,   1.76095180e-01,\n",
       "         4.35819178e-02,   9.06670215e-04,   9.76597007e-01,\n",
       "         9.99364040e-01,   5.55530282e-01,   1.47985580e-01,\n",
       "         1.36174251e-01,   9.11506120e-01,   9.17741345e-01,\n",
       "         5.84762334e-01,   7.22307806e-01,   5.99611246e-01,\n",
       "         7.12946315e-01,   9.78321436e-01,   4.34807752e-01,\n",
       "         7.72074722e-02,   7.79094723e-02,   6.54136869e-01,\n",
       "         5.88851745e-02,   1.08011029e-01,   8.83060567e-01,\n",
       "         9.38004047e-01,   1.13537193e-01,   2.20928857e-01,\n",
       "         9.90667813e-01,   9.19650214e-01,   6.28193427e-01,\n",
       "         4.73964085e-01,   7.89852454e-01,   4.87769946e-01,\n",
       "         9.75669799e-01,   7.68262193e-01,   6.37051074e-01,\n",
       "         1.12078814e-01,   7.20394776e-01,   1.17467657e-01,\n",
       "         1.46311608e-01,   8.62471122e-01,   5.73372705e-01,\n",
       "         5.62978638e-01,   6.98428012e-01,   8.45321375e-01,\n",
       "         9.46769531e-01,   6.46222981e-02,   4.01978425e-02,\n",
       "         7.75591690e-02,   9.77996176e-01,   5.34090107e-01,\n",
       "         3.75564919e-01,   6.09263548e-01,   1.21260536e-01,\n",
       "         3.88789669e-01,   2.96070860e-01,   6.74828030e-01,\n",
       "         1.56572670e-01,   9.73046518e-01,   4.11532296e-02,\n",
       "         1.02920779e-01,   1.65261049e-01,   9.89819257e-01,\n",
       "         2.58308780e-01,   6.86963527e-01,   6.78082517e-01,\n",
       "         3.78509992e-01,   2.98013101e-01,   7.45307780e-01,\n",
       "         8.20122154e-02,   2.19420403e-02,   4.05662889e-01,\n",
       "         3.23218794e-01,   7.07379840e-02,   8.63034058e-02,\n",
       "         5.00716087e-01,   9.55101363e-01,   6.99634383e-01,\n",
       "         1.79930112e-01,   3.58102799e-01,   6.81073265e-01,\n",
       "         7.74311458e-02,   1.96668116e-01,   6.95953150e-02,\n",
       "         4.70947370e-01,   5.45323457e-01,   8.62997157e-01,\n",
       "         3.18913947e-02,   1.38138772e-01,   2.77297495e-01,\n",
       "         4.14086332e-01,   3.04266247e-01,   9.90526193e-01,\n",
       "         3.54041716e-01,   9.07702703e-01,   9.93488851e-01,\n",
       "         2.91944796e-01,   1.54573403e-01,   8.52894423e-01,\n",
       "         1.45929645e-02,   1.25486602e-01,   1.96045928e-01,\n",
       "         2.30484100e-02,   6.35567632e-01,   1.65035547e-02,\n",
       "         2.73431384e-01,   5.56887631e-01,   6.71852471e-01,\n",
       "         1.21913591e-01,   5.39021078e-01,   7.09477959e-01,\n",
       "         4.61357661e-02,   4.63205200e-01,   3.70083440e-01,\n",
       "         7.21876516e-02,   5.81168188e-01,   7.72555698e-02,\n",
       "         6.84657573e-01,   5.03168816e-01,   8.64142840e-01,\n",
       "         4.78194108e-01,   8.52574928e-01,   3.57665136e-01,\n",
       "         4.77709221e-01,   6.02082178e-01,   6.91195649e-01,\n",
       "         3.05406616e-01,   4.88980727e-02,   6.99004063e-01,\n",
       "         7.59120062e-01,   8.78801868e-01,   6.07583827e-01,\n",
       "         7.97865539e-01,   1.82144515e-01,   3.43117192e-01,\n",
       "         3.98954262e-01,   3.35698873e-01,   3.27101561e-01,\n",
       "         6.42983122e-01,   8.34586018e-01,   5.25850648e-01,\n",
       "         7.29471450e-01,   5.92074392e-01,   7.05411368e-01,\n",
       "         5.99642475e-01,   1.37948331e-01,   8.60776860e-01,\n",
       "         1.68130330e-01,   2.75313903e-01,   5.34512607e-01,\n",
       "         6.77868453e-01,   9.28496083e-01,   1.46379452e-01,\n",
       "         4.87046549e-02,   6.13092428e-01,   5.73529918e-01,\n",
       "         7.29353803e-01,   1.82684058e-01,   7.83380931e-01,\n",
       "         6.41665876e-02,   1.29193534e-01,   1.77865386e-01,\n",
       "         8.79087108e-02,   4.32054985e-02,   6.47845783e-01,\n",
       "         9.77157876e-01,   4.19903128e-01,   1.51588136e-01,\n",
       "         2.95592270e-01,   2.44398511e-01,   7.15553809e-01,\n",
       "         6.21879418e-01,   6.11336071e-01,   9.84652065e-01,\n",
       "         2.75911321e-01,   6.26146776e-01,   3.96082761e-01,\n",
       "         7.37250177e-01,   3.61402247e-01,   8.28772938e-01,\n",
       "         2.76657051e-01,   6.92279503e-01,   2.10140257e-01,\n",
       "         7.60894145e-01,   5.18574917e-01,   2.36854083e-01,\n",
       "         7.42492795e-01,   1.16542614e-01,   7.13031899e-01,\n",
       "         7.65253019e-01,   5.37315131e-01,   5.33210768e-01,\n",
       "         7.59212793e-01,   5.66193178e-01,   7.46297649e-02,\n",
       "         7.38130826e-02,   9.56017422e-01,   4.93274892e-01,\n",
       "         6.64270059e-01,   3.64629353e-01,   3.57515320e-01,\n",
       "         6.84990171e-01,   3.10782194e-01,   1.01307704e-01,\n",
       "         3.30621759e-01,   1.18473029e-01,   9.75998784e-01,\n",
       "         8.49122237e-01,   6.36645772e-01,   7.23699027e-02,\n",
       "         4.38206562e-01,   8.94290916e-01,   6.15922405e-01,\n",
       "         3.92715645e-01,   3.72892633e-01,   1.76074208e-01,\n",
       "         3.04598246e-03,   5.38605419e-01,   6.66970954e-01,\n",
       "         2.06898255e-01,   5.86083602e-01,   4.08068211e-01,\n",
       "         1.15168764e-01,   5.32424789e-01,   8.29582422e-01,\n",
       "         6.02843419e-01,   3.96236654e-01,   2.34308525e-02,\n",
       "         2.55915321e-01,   6.04610584e-01,   6.86774967e-01,\n",
       "         3.28371269e-01,   2.01828362e-01,   7.69885172e-01,\n",
       "         9.09159800e-02,   4.16127255e-01,   6.15777773e-01,\n",
       "         5.07090701e-01,   5.47077929e-02,   2.07912251e-01,\n",
       "         1.73548487e-01,   5.11611699e-01,   2.05677140e-01,\n",
       "         7.49513120e-01,   8.53209809e-02,   3.94852348e-01,\n",
       "         8.82619288e-01,   9.51487295e-01,   3.11808931e-01,\n",
       "         2.05333715e-01,   2.05723034e-02,   6.99193835e-01,\n",
       "         7.25600360e-02,   9.97265071e-01,   3.00088209e-01,\n",
       "         9.62674546e-01,   7.23716604e-01,   4.12435474e-01,\n",
       "         3.21541972e-01,   6.70996432e-01,   9.30561425e-01,\n",
       "         2.67060463e-01,   6.45117811e-01,   4.33893851e-01,\n",
       "         3.85981760e-02,   5.11158914e-02,   4.55124465e-02,\n",
       "         4.62309761e-02,   3.07009070e-01,   7.97532069e-01,\n",
       "         9.43837540e-01,   4.10956501e-01,   7.75299969e-01,\n",
       "         8.87336794e-01,   2.56504872e-01,   6.27491476e-01,\n",
       "         9.53788003e-01,   5.75777836e-01,   7.22729559e-01,\n",
       "         1.18270049e-01,   4.07093206e-01,   3.56988580e-01,\n",
       "         7.80647064e-01,   1.37329353e-01,   7.66722975e-01,\n",
       "         5.48367544e-01,   6.40353984e-01,   9.31899623e-01,\n",
       "         7.66952435e-01,   5.36653046e-01,   2.73355527e-01,\n",
       "         3.90359716e-01,   2.32261752e-01,   2.59238555e-01,\n",
       "         6.48524903e-01,   3.80203135e-01,   9.71678004e-01,\n",
       "         2.25203151e-01,   7.08716211e-01,   2.70372725e-01,\n",
       "         8.77169839e-01,   5.11624006e-01,   8.87889275e-01,\n",
       "         8.88798207e-01,   9.94112583e-01,   7.64231714e-01,\n",
       "         6.28184203e-01,   4.83837242e-01,   8.75492189e-01,\n",
       "         4.88092307e-01,   9.45039392e-01,   7.48175375e-01,\n",
       "         5.62927462e-01,   2.65692553e-01,   3.29195169e-01,\n",
       "         1.55306407e-01,   7.68009260e-01,   6.67688860e-01,\n",
       "         7.43318153e-01,   4.67296178e-01,   9.56205962e-01,\n",
       "         1.60631429e-01,   3.16844234e-01,   4.55024622e-01,\n",
       "         4.16764592e-02,   7.20557245e-01,   2.82167155e-01,\n",
       "         2.31547108e-01,   6.22334339e-01,   8.53694958e-01,\n",
       "         3.06955806e-02,   5.22498375e-01,   4.42944475e-01,\n",
       "         9.83815862e-01,   3.59019060e-01,   1.00313540e-01,\n",
       "         9.74370442e-01,   4.60502345e-01,   4.83181453e-01,\n",
       "         5.27001555e-01,   2.53670627e-01,   6.48874258e-01,\n",
       "         7.18443091e-01,   6.06826884e-01,   5.87941917e-01,\n",
       "         4.21289644e-01,   6.51674907e-01,   7.10354617e-02,\n",
       "         3.65011311e-01,   2.09739116e-02,   5.74099753e-01,\n",
       "         9.42584904e-01,   9.31841551e-01,   7.13447781e-01,\n",
       "         5.30801802e-01,   7.79345141e-01,   2.33455728e-01,\n",
       "         2.89648031e-01,   3.41994206e-01,   4.48292465e-01,\n",
       "         8.83058192e-01,   7.97578902e-01,   5.14641788e-01,\n",
       "         5.18689711e-01,   1.77283187e-01,   3.69739657e-01,\n",
       "         6.85728590e-01,   8.82526307e-01,   6.07426127e-01,\n",
       "         7.12007381e-01,   7.91721108e-01,   6.66003079e-01,\n",
       "         8.33212575e-01,   6.82419782e-01,   8.70306967e-01,\n",
       "         8.75522828e-01,   9.18046831e-01,   7.50906128e-01,\n",
       "         1.05546312e-02,   5.53642039e-01,   9.46013105e-02,\n",
       "         8.60266117e-01,   4.66833037e-01,   1.34110217e-02,\n",
       "         3.54289928e-01,   8.12093955e-01,   8.06693935e-01,\n",
       "         9.25348330e-01,   6.25639485e-01,   7.18206759e-01,\n",
       "         9.87524272e-02,   3.04698656e-01,   1.10778157e-01,\n",
       "         5.97624931e-01,   4.51869490e-01,   1.94149457e-01,\n",
       "         7.02184307e-01,   8.31194950e-01,   1.66696154e-01,\n",
       "         8.60871391e-01,   2.94259929e-01,   8.18082196e-01,\n",
       "         6.25002305e-01,   5.16315510e-01,   4.40204534e-01,\n",
       "         8.71278927e-01,   5.90666370e-01,   7.94440215e-01,\n",
       "         9.63629279e-01,   1.74886388e-01,   2.52442104e-01,\n",
       "         6.37320748e-01,   1.81384972e-01,   1.48433131e-01,\n",
       "         9.45208532e-01,   8.90530039e-01,   8.80760164e-01,\n",
       "         2.54632462e-01,   5.25367395e-01,   4.87619610e-01,\n",
       "         3.63494130e-02,   3.40551429e-02,   1.56695146e-01,\n",
       "         4.00245298e-01,   1.71099109e-01,   4.47188241e-02,\n",
       "         4.22689860e-01,   7.69956594e-01,   3.22248685e-02,\n",
       "         6.10327453e-01,   3.45498224e-01,   9.72080531e-01,\n",
       "         7.40020104e-01,   8.86514308e-01,   7.79892815e-01,\n",
       "         6.40534961e-01,   6.39017974e-02,   4.25339289e-01,\n",
       "         5.98605363e-02,   9.43351366e-01,   6.08590435e-01,\n",
       "         1.81422693e-01,   2.58558103e-01,   3.42404381e-01,\n",
       "         6.43862757e-01,   2.83818868e-01,   9.43950183e-01,\n",
       "         2.78511095e-01,   8.63438032e-01,   5.46809488e-01,\n",
       "         1.17287147e-01,   3.49220877e-01,   3.06358189e-01,\n",
       "         9.91490299e-01,   4.18808554e-01,   6.32115551e-01,\n",
       "         3.48293654e-01,   8.42919424e-01,   4.89707669e-01,\n",
       "         5.19999818e-01,   8.69198354e-01,   2.15144547e-01,\n",
       "         4.19331747e-01])"
      ]
     },
     "execution_count": 33,
     "metadata": {},
     "output_type": "execute_result"
    }
   ],
   "source": [
    "s_fake"
   ]
  },
  {
   "cell_type": "code",
   "execution_count": 28,
   "metadata": {
    "collapsed": true
   },
   "outputs": [],
   "source": [
    "medical_data = np.loadtxt('/home/andrea/Trento/CODICE/workspaces/pyHRV/pyHRV/assets/medical.txt', delimiter='\\t')"
   ]
  },
  {
   "cell_type": "code",
   "execution_count": 35,
   "metadata": {
    "collapsed": false
   },
   "outputs": [],
   "source": [
    "# import data from included examples\n",
    "ecg_data = medical_data[:,0]\n",
    "eda_data = medical_data[:,1]"
   ]
  },
  {
   "cell_type": "code",
   "execution_count": 36,
   "metadata": {
    "collapsed": false
   },
   "outputs": [],
   "source": [
    "# create two signals\n",
    "fsamp = 2048\n",
    "tstart_ecg = 15\n",
    "tstart_eda = 5\n",
    "ecg = EvenlySignal(values = ecg_data, sampling_freq = fsamp, signal_nature = 'ecg', start_time = tstart_ecg)\n",
    "eda = EvenlySignal(values = eda_data, sampling_freq = fsamp, signal_nature = 'eda', start_time = tstart_eda)"
   ]
  },
  {
   "cell_type": "code",
   "execution_count": 38,
   "metadata": {
    "collapsed": false
   },
   "outputs": [
    {
     "data": {
      "text/plain": [
       "[<matplotlib.lines.Line2D at 0x7f55c7e2b3d0>]"
      ]
     },
     "execution_count": 38,
     "metadata": {},
     "output_type": "execute_result"
    }
   ],
   "source": [
    "# plot\n",
    "ax1 = plt.subplot(211)\n",
    "ecg.plot()\n",
    "plt.subplot(212, sharex=ax1)\n",
    "eda.plot()"
   ]
  },
  {
   "cell_type": "code",
   "execution_count": 40,
   "metadata": {
    "collapsed": false
   },
   "outputs": [
    {
     "name": "stdout",
     "output_type": "stream",
     "text": [
      "ECG\n",
      "Sampling frequency: 2048\n",
      "Start time:         15\n",
      "End time:           135.0\n",
      "Duration:           120.0\n",
      "Signal nature:      ecg\n",
      "First ten instants: [ 15.          15.00048828  15.00097656  15.00146484  15.00195312\n",
      "  15.00244141  15.00292969  15.00341797  15.00390625  15.00439453]\n",
      "\n",
      "EDA\n",
      "Sampling frequency: 2048\n",
      "Start time:         5\n",
      "End time:           125.0\n",
      "Duration:           120.0\n",
      "Signal nature:      eda\n",
      "First ten instants: [ 5.          5.00048828  5.00097656  5.00146484  5.00195312  5.00244141\n",
      "  5.00292969  5.00341797  5.00390625  5.00439453]\n"
     ]
    }
   ],
   "source": [
    "# check signal properties\n",
    "print('ECG')\n",
    "print('Sampling frequency: {}'.format( ecg.get_sampling_freq() ))\n",
    "print('Start time:         {}'.format( ecg.get_start_time() ))\n",
    "print('End time:           {}'.format( ecg.get_end_time() ))\n",
    "print('Duration:           {}'.format( ecg.get_duration() ))\n",
    "print('Signal nature:      {}'.format( ecg.get_signal_nature() ))\n",
    "print('First ten instants: {}'.format( ecg.get_times()[0:10] ))\n",
    "print('')\n",
    "print('EDA')\n",
    "print('Sampling frequency: {}'.format( eda.get_sampling_freq() ))\n",
    "print('Start time:         {}'.format( eda.get_start_time() ))\n",
    "print('End time:           {}'.format( eda.get_end_time() ))\n",
    "print('Duration:           {}'.format( eda.get_duration() ))\n",
    "print('Signal nature:      {}'.format( eda.get_signal_nature() ))\n",
    "print('First ten instants: {}'.format( eda.get_times()[0:10] ))"
   ]
  },
  {
   "cell_type": "markdown",
   "metadata": {},
   "source": [
    "#### UnevenlySignal"
   ]
  },
  {
   "cell_type": "code",
   "execution_count": 55,
   "metadata": {
    "collapsed": false
   },
   "outputs": [],
   "source": [
    "# create a signal\n",
    "\n",
    "## create fake data\n",
    "signal_values = np.arange(100)\n",
    "\n",
    "## create fake indices\n",
    "idx = np.arange(100)\n",
    "idx[-1] = 125\n",
    "\n",
    "## set the sampling frequency\n",
    "fsamp = 100 # Hz\n",
    "\n",
    "## set the starting time\n",
    "tstart = 0 # s\n",
    "\n",
    "## create an Unevenly signal defining the indices\n",
    "x_values_idx = idx\n",
    "\n",
    "s_fake_idx = UnevenlySignal(values = signal_values, sampling_freq = fsamp, signal_nature = 'fake', start_time = tstart,\n",
    "                       x_values = x_values_idx, x_type = 'indices')\n",
    "\n",
    "## create an Unevenly signal defining the indices\n",
    "x_values_time = idx/fsamp\n",
    "\n",
    "s_fake_time = UnevenlySignal(values = x, sampling_freq = fsamp, signal_nature = 'fake', start_time = tstart,\n",
    "                       x_values = x_values_time, x_type = 'instants')"
   ]
  },
  {
   "cell_type": "code",
   "execution_count": 56,
   "metadata": {
    "collapsed": false
   },
   "outputs": [
    {
     "data": {
      "text/plain": [
       "[<matplotlib.lines.Line2D at 0x7f55c7834750>]"
      ]
     },
     "execution_count": 56,
     "metadata": {},
     "output_type": "execute_result"
    }
   ],
   "source": [
    "#plot\n",
    "s_fake_idx.plot('.-')\n",
    "s_fake_time.plot('.-')"
   ]
  },
  {
   "cell_type": "code",
   "execution_count": 54,
   "metadata": {
    "collapsed": false
   },
   "outputs": [
    {
     "name": "stdout",
     "output_type": "stream",
     "text": [
      "Defined by Indices\n",
      "Sampling frequency: 100\n",
      "Start time:         0\n",
      "End time:           1.26\n",
      "Duration:           1.26\n",
      "Signal nature:      fake\n",
      "First ten instants: [ 0.    0.01  0.02  0.03  0.04  0.05  0.06  0.07  0.08  0.09]\n",
      "\n",
      "Defined by Instants\n",
      "Sampling frequency: 100\n",
      "Start time:         0\n",
      "End time:           1.26\n",
      "Duration:           1.26\n",
      "Signal nature:      fake\n",
      "First ten instants: [ 0.    0.01  0.02  0.03  0.04  0.05  0.06  0.07  0.08  0.09]\n"
     ]
    }
   ],
   "source": [
    "# chech signal properties\n",
    "print('Defined by Indices')\n",
    "print('Sampling frequency: {}'.format( s_fake_idx.get_sampling_freq() ))\n",
    "print('Start time:         {}'.format( s_fake_idx.get_start_time() ))\n",
    "print('End time:           {}'.format( s_fake_idx.get_end_time() ))\n",
    "print('Duration:           {}'.format( s_fake_idx.get_duration() ))\n",
    "print('Signal nature:      {}'.format( s_fake_idx.get_signal_nature() ))\n",
    "print('First ten instants: {}'.format( s_fake_idx.get_times()[0:10] ))\n",
    "print('')\n",
    "print('Defined by Instants')\n",
    "print('Sampling frequency: {}'.format( s_fake_time.get_sampling_freq() ))\n",
    "print('Start time:         {}'.format( s_fake_time.get_start_time() ))\n",
    "print('End time:           {}'.format( s_fake_time.get_end_time() ))\n",
    "print('Duration:           {}'.format( s_fake_time.get_duration() ))\n",
    "print('Signal nature:      {}'.format( s_fake_time.get_signal_nature() ))\n",
    "print('First ten instants: {}'.format( s_fake_time.get_times()[0:10] ))"
   ]
  },
  {
   "cell_type": "markdown",
   "metadata": {},
   "source": [
    "#### Segmentation of signals"
   ]
  },
  {
   "cell_type": "code",
   "execution_count": null,
   "metadata": {
    "collapsed": true
   },
   "outputs": [],
   "source": [
    "# segmentation of ES"
   ]
  },
  {
   "cell_type": "code",
   "execution_count": null,
   "metadata": {
    "collapsed": true
   },
   "outputs": [],
   "source": [
    "# segmentation of US"
   ]
  },
  {
   "cell_type": "markdown",
   "metadata": {},
   "source": [
    "### Algorithms in pyphysio"
   ]
  },
  {
   "cell_type": "markdown",
   "metadata": {},
   "source": [
    "Description of how algorithms are represented in pyphysio\n",
    "1. algorithm\n",
    "2. parameters\n",
    "3. types of algorithms"
   ]
  },
  {
   "cell_type": "markdown",
   "metadata": {},
   "source": [
    "#### Filters"
   ]
  },
  {
   "cell_type": "code",
   "execution_count": null,
   "metadata": {
    "collapsed": true
   },
   "outputs": [],
   "source": [
    "# create a Filter"
   ]
  },
  {
   "cell_type": "code",
   "execution_count": null,
   "metadata": {
    "collapsed": true
   },
   "outputs": [],
   "source": [
    "# help inline"
   ]
  },
  {
   "cell_type": "code",
   "execution_count": null,
   "metadata": {
    "collapsed": true
   },
   "outputs": [],
   "source": [
    "# check parameters"
   ]
  },
  {
   "cell_type": "code",
   "execution_count": null,
   "metadata": {
    "collapsed": true
   },
   "outputs": [],
   "source": [
    "# apply a Filter"
   ]
  },
  {
   "cell_type": "code",
   "execution_count": null,
   "metadata": {
    "collapsed": true
   },
   "outputs": [],
   "source": [
    "# check output type"
   ]
  },
  {
   "cell_type": "markdown",
   "metadata": {},
   "source": [
    "#### Estimators"
   ]
  },
  {
   "cell_type": "code",
   "execution_count": null,
   "metadata": {
    "collapsed": true
   },
   "outputs": [],
   "source": [
    "# create an Estimator"
   ]
  },
  {
   "cell_type": "code",
   "execution_count": null,
   "metadata": {
    "collapsed": true
   },
   "outputs": [],
   "source": [
    "# help inline"
   ]
  },
  {
   "cell_type": "code",
   "execution_count": null,
   "metadata": {
    "collapsed": true
   },
   "outputs": [],
   "source": [
    "# check parameters"
   ]
  },
  {
   "cell_type": "code",
   "execution_count": null,
   "metadata": {
    "collapsed": true
   },
   "outputs": [],
   "source": [
    "# apply an Estimator"
   ]
  },
  {
   "cell_type": "code",
   "execution_count": null,
   "metadata": {
    "collapsed": true
   },
   "outputs": [],
   "source": [
    "# check output type"
   ]
  },
  {
   "cell_type": "markdown",
   "metadata": {},
   "source": [
    "#### Indicators"
   ]
  },
  {
   "cell_type": "code",
   "execution_count": null,
   "metadata": {
    "collapsed": true
   },
   "outputs": [],
   "source": [
    "# create an Indicator"
   ]
  },
  {
   "cell_type": "code",
   "execution_count": null,
   "metadata": {
    "collapsed": true
   },
   "outputs": [],
   "source": [
    "# help inline"
   ]
  },
  {
   "cell_type": "code",
   "execution_count": null,
   "metadata": {
    "collapsed": true
   },
   "outputs": [],
   "source": [
    "# check parameters"
   ]
  },
  {
   "cell_type": "code",
   "execution_count": null,
   "metadata": {
    "collapsed": true
   },
   "outputs": [],
   "source": [
    "# apply an Indicator"
   ]
  },
  {
   "cell_type": "code",
   "execution_count": null,
   "metadata": {
    "collapsed": true
   },
   "outputs": [],
   "source": [
    "# check output type"
   ]
  },
  {
   "cell_type": "markdown",
   "metadata": {},
   "source": [
    "#### Tools"
   ]
  },
  {
   "cell_type": "code",
   "execution_count": null,
   "metadata": {
    "collapsed": true
   },
   "outputs": [],
   "source": [
    "# create a Tool"
   ]
  },
  {
   "cell_type": "code",
   "execution_count": null,
   "metadata": {
    "collapsed": true
   },
   "outputs": [],
   "source": [
    "# help inline"
   ]
  },
  {
   "cell_type": "code",
   "execution_count": null,
   "metadata": {
    "collapsed": true
   },
   "outputs": [],
   "source": [
    "# check parameters"
   ]
  },
  {
   "cell_type": "code",
   "execution_count": null,
   "metadata": {
    "collapsed": true
   },
   "outputs": [],
   "source": [
    "# apply a Tool"
   ]
  },
  {
   "cell_type": "code",
   "execution_count": null,
   "metadata": {
    "collapsed": true
   },
   "outputs": [],
   "source": [
    "# check output type"
   ]
  }
 ],
 "metadata": {
  "kernelspec": {
   "display_name": "Python 2",
   "language": "python",
   "name": "python2"
  },
  "language_info": {
   "codemirror_mode": {
    "name": "ipython",
    "version": 2
   },
   "file_extension": ".py",
   "mimetype": "text/x-python",
   "name": "python",
   "nbconvert_exporter": "python",
   "pygments_lexer": "ipython2",
   "version": "2.7.13"
  }
 },
 "nbformat": 4,
 "nbformat_minor": 2
}
