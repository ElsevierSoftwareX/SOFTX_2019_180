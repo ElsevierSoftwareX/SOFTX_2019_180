{
 "cells": [
  {
   "cell_type": "markdown",
   "metadata": {},
   "source": [
    "This is a tutorial for Python 2.7\n",
    "\n",
    "# pyphysio library\n",
    "\n",
    "## 1. Signals and Algorithms\n",
    "\n",
    "Signal and Algorithm are the two main classes in pyphysio.\n",
    "\n",
    "\n",
    "### 1.1 Signals in pyphysio\n",
    "\n",
    "Description of how signals are represented in pyphysio\n",
    "\n",
    "A signal is an ordered vector of timestamp-value pairs, where the timestamp is the instant at which the measured phenomenon had that value.\n",
    "In pyphysio a signal is represented by the class **Signal** which extends the numpy.ndarray class.\n",
    "\n",
    "In this part we will see the different types of signals that can be defined and their properties."
   ]
  },
  {
   "cell_type": "code",
   "execution_count": null,
   "metadata": {
    "collapsed": true
   },
   "outputs": [],
   "source": [
    "# import libraries\n",
    "from __future__ import division\n",
    "import numpy as np\n",
    "import matplotlib.pyplot as plt\n",
    "\n",
    "%matplotlib inline"
   ]
  },
  {
   "cell_type": "code",
   "execution_count": null,
   "metadata": {
    "collapsed": true
   },
   "outputs": [],
   "source": [
    "# import the Signal classes\n",
    "from pyphysio import EvenlySignal, UnevenlySignal"
   ]
  },
  {
   "cell_type": "markdown",
   "metadata": {
    "collapsed": true
   },
   "source": [
    "#### 1.1.1 EvenlySignal\n",
    "\n",
    "When the signal is sampled with a fixed sampling frequency it is sufficient to know the timestamp at which the acquisition started and the sampling frequency to reconstruct the timestamp of each sample. This type of signal is represented by the class **EvenlySignal**.\n",
    "\n",
    "Therefore to create an instance of **EvenlySignal** these are the input attributes needed:\n",
    "* ``values`` : (unidimensional numpy array) values of the signal;\n",
    "* ``sampling_freq`` : (float>0) sampling frequency;\n",
    "* ``start_time`` : (float) temporal reference of the start of the signal. This is optional, if omitted it will set to 0;\n",
    "* ``signal_nature`` : (string) identifier of the type of the signal. In future releases of pyphysio it will be used to check the appropriateness of the algorithms applied to the signal. Now it is optional and if omitted it will set to ''.\n",
    "\n",
    "Class functions are provided to facilitate the management and processing of signals:\n",
    "* `get_...()` type functions can be used to check signal attributes;\n",
    "* `plot()` will plot the signal using matplotlib;\n",
    "* `segment_time(t_start, t_stop)` and `segment_idx(idx_start, idx_stop)` can be used to extract a portion of the signal;\n",
    "* `resample(fout)` can be used to change the sampling frequency."
   ]
  },
  {
   "cell_type": "code",
   "execution_count": null,
   "metadata": {
    "collapsed": true
   },
   "outputs": [],
   "source": [
    "# create a signal\n",
    "\n",
    "## create fake data\n",
    "np.random.seed(4)\n",
    "signal_values = np.random.uniform(0, 1, size = 1000)\n",
    "\n",
    "## set the sampling frequency\n",
    "fsamp = 100 # Hz\n",
    "\n",
    "## set the starting time\n",
    "tstart = 100 # s\n",
    "\n",
    "## create the Evenly signal\n",
    "s_fake = EvenlySignal(values = signal_values, sampling_freq = fsamp, signal_nature = 'fake', start_time = tstart)"
   ]
  },
  {
   "cell_type": "code",
   "execution_count": null,
   "metadata": {},
   "outputs": [],
   "source": [
    "## plot\n",
    "s_fake.plot()"
   ]
  },
  {
   "cell_type": "code",
   "execution_count": null,
   "metadata": {},
   "outputs": [],
   "source": [
    "# chech signal properties\n",
    "print('Sampling frequency: {}'.format( s_fake.get_sampling_freq() ))\n",
    "print('Start time:         {}'.format( s_fake.get_start_time() ))\n",
    "print('End time:           {}'.format( s_fake.get_end_time() ))\n",
    "print('Duration:           {}'.format( s_fake.get_duration() ))\n",
    "print('Signal nature:      {}'.format( s_fake.get_signal_nature() ))\n",
    "print('First ten instants: {}'.format( s_fake.get_times()[0:10] ))"
   ]
  },
  {
   "cell_type": "code",
   "execution_count": null,
   "metadata": {},
   "outputs": [],
   "source": [
    "# check Signal representation\n",
    "s_fake"
   ]
  },
  {
   "cell_type": "code",
   "execution_count": null,
   "metadata": {
    "collapsed": true,
    "scrolled": true
   },
   "outputs": [],
   "source": [
    "# import data from included examples\n",
    "from pyphysio import TestData\n",
    "\n",
    "ecg_data = TestData.ecg()\n",
    "\n",
    "eda_data = TestData.eda()"
   ]
  },
  {
   "cell_type": "code",
   "execution_count": null,
   "metadata": {
    "collapsed": true
   },
   "outputs": [],
   "source": [
    "# create two signals\n",
    "fsamp = 2048\n",
    "tstart_ecg = 15\n",
    "tstart_eda = 5\n",
    "ecg = EvenlySignal(values = ecg_data, sampling_freq = fsamp, signal_nature = 'ecg', start_time = tstart_ecg)\n",
    "eda = EvenlySignal(values = eda_data, sampling_freq = fsamp, signal_nature = 'eda', start_time = tstart_eda)"
   ]
  },
  {
   "cell_type": "code",
   "execution_count": null,
   "metadata": {},
   "outputs": [],
   "source": [
    "# plot\n",
    "ax1 = plt.subplot(211)\n",
    "ecg.plot()\n",
    "plt.subplot(212, sharex=ax1)\n",
    "eda.plot()"
   ]
  },
  {
   "cell_type": "code",
   "execution_count": null,
   "metadata": {},
   "outputs": [],
   "source": [
    "# check signal properties\n",
    "print('ECG')\n",
    "print('Sampling frequency: {}'.format( ecg.get_sampling_freq() ))\n",
    "print('Start time:         {}'.format( ecg.get_start_time() ))\n",
    "print('End time:           {}'.format( ecg.get_end_time() ))\n",
    "print('Duration:           {}'.format( ecg.get_duration() ))\n",
    "print('Signal nature:      {}'.format( ecg.get_signal_nature() ))\n",
    "print('First ten instants: {}'.format( ecg.get_times()[0:10] ))\n",
    "print('')\n",
    "print('EDA')\n",
    "print('Sampling frequency: {}'.format( eda.get_sampling_freq() ))\n",
    "print('Start time:         {}'.format( eda.get_start_time() ))\n",
    "print('End time:           {}'.format( eda.get_end_time() ))\n",
    "print('Duration:           {}'.format( eda.get_duration() ))\n",
    "print('Signal nature:      {}'.format( eda.get_signal_nature() ))\n",
    "print('First ten instants: {}'.format( eda.get_times()[0:10] ))"
   ]
  },
  {
   "cell_type": "code",
   "execution_count": null,
   "metadata": {},
   "outputs": [],
   "source": [
    "# resampling\n",
    "ecg_128 = ecg.resample(fout=128)\n",
    "\n",
    "ecg.plot()\n",
    "ecg_128.plot('.-')"
   ]
  },
  {
   "cell_type": "markdown",
   "metadata": {},
   "source": [
    "#### 1.1.2 UnevenlySignal\n",
    "\n",
    "Other types of signals, for instance triggers indicating occurrences of heartbeats or events, are series of samples which are not equally temporally spaced. Thus the sampling frequency is not fixed and it is necessary to store the timestamp of each sample. This type of signals is represented by the class **UnevenlySignal**.\n",
    "\n",
    "Therefore to create an instance of **UnevenlySignal** these are these additional input attributes are needed:\n",
    "* ``x_values`` : (unidimensional numpy array) information about the temporal position of each sample. Should be of the same size of ``values``;\n",
    "* ``x_type`` : ('instants' or 'indices') indicate what type of x_values have been used.\n",
    "\n",
    "Two ways are allowed to define an **UnevenlySignal**:\n",
    "1. by defining the indexes (`x_type='indices'`): x_values are indices of an array and the instants are automatically computed using the information from the `sampling_frequency` and the `start_time`. \n",
    "2. by defining the instants (`x_type='instants'`): x_values are instants and the indices are automatically computed using the information from the `sampling_frequency` and the `start_time`. \n",
    "\n",
    "As a general rule, the `start_time` is always associated to the index 0.\n",
    "\n",
    "An additional class function is provided to transform an **UnevenlySignal** to an **EvenlySignal**:\n",
    "* `to_evenly()` create an `EvenlySignal` by interpolating the signal with given signal sampling frequency."
   ]
  },
  {
   "cell_type": "code",
   "execution_count": null,
   "metadata": {
    "collapsed": true
   },
   "outputs": [],
   "source": [
    "# create a signal\n",
    "\n",
    "## create fake data\n",
    "signal_values = np.arange(100)\n",
    "\n",
    "## create fake indices\n",
    "idx = np.arange(100)\n",
    "idx[-1] = 125\n",
    "\n",
    "## set the sampling frequency\n",
    "fsamp = 10 # Hz\n",
    "\n",
    "## set the starting time\n",
    "tstart = 10 # s\n",
    "\n",
    "## create an Unevenly signal defining the indices\n",
    "x_values_idx = idx\n",
    "\n",
    "s_fake_idx = UnevenlySignal(values = signal_values, sampling_freq = fsamp, signal_nature = 'fake', start_time = tstart,\n",
    "                       x_values = x_values_idx, x_type = 'indices')"
   ]
  },
  {
   "cell_type": "code",
   "execution_count": null,
   "metadata": {
    "collapsed": true
   },
   "outputs": [],
   "source": [
    "## create an Unevenly signal defining the indices\n",
    "x_values_time = idx/fsamp + 10\n",
    "\n",
    "## set the starting time\n",
    "tstart = 0\n",
    "\n",
    "s_fake_time = UnevenlySignal(values = signal_values, sampling_freq = fsamp, signal_nature = 'fake', start_time = tstart,\n",
    "                       x_values = x_values_time, x_type = 'instants')"
   ]
  },
  {
   "cell_type": "code",
   "execution_count": null,
   "metadata": {},
   "outputs": [],
   "source": [
    "#plot\n",
    "ax1=plt.subplot(211)\n",
    "s_fake_idx.plot('.-')\n",
    "plt.subplot(212, sharex=ax1)\n",
    "s_fake_time.plot('.-')"
   ]
  },
  {
   "cell_type": "code",
   "execution_count": null,
   "metadata": {},
   "outputs": [],
   "source": [
    "# note that the times are the same but not the starting_time nor the indices:\n",
    "\n",
    "# check samples instants\n",
    "print('Instants:')\n",
    "print(s_fake_idx.get_times())\n",
    "print(s_fake_time.get_times())\n",
    "\n",
    "# check samples indices\n",
    "print('Indices:')\n",
    "print(s_fake_idx.get_indices())\n",
    "print(s_fake_time.get_indices())\n",
    "\n",
    "# check start_time\n",
    "print('Start time:')\n",
    "print(s_fake_idx.get_start_time())\n",
    "print(s_fake_time.get_start_time())"
   ]
  },
  {
   "cell_type": "code",
   "execution_count": null,
   "metadata": {},
   "outputs": [],
   "source": [
    "# chech signal properties\n",
    "print('Defined by Indices')\n",
    "print('Sampling frequency: {}'.format( s_fake_idx.get_sampling_freq() ))\n",
    "print('Start time:         {}'.format( s_fake_idx.get_start_time() ))\n",
    "print('End time:           {}'.format( s_fake_idx.get_end_time() ))\n",
    "print('Duration:           {}'.format( s_fake_idx.get_duration() ))\n",
    "print('Signal nature:      {}'.format( s_fake_idx.get_signal_nature() ))\n",
    "print('First ten instants: {}'.format( s_fake_idx.get_times()[0:10] ))\n",
    "print('')\n",
    "print('Defined by Instants')\n",
    "print('Sampling frequency: {}'.format( s_fake_time.get_sampling_freq() ))\n",
    "print('Start time:         {}'.format( s_fake_time.get_start_time() ))\n",
    "print('End time:           {}'.format( s_fake_time.get_end_time() ))\n",
    "print('Duration:           {}'.format( s_fake_time.get_duration() ))\n",
    "print('Signal nature:      {}'.format( s_fake_time.get_signal_nature() ))\n",
    "print('First ten instants: {}'.format( s_fake_time.get_times()[0:10] ))"
   ]
  },
  {
   "cell_type": "code",
   "execution_count": null,
   "metadata": {
    "collapsed": true
   },
   "outputs": [],
   "source": [
    "# to_evenly\n",
    "s_fake_time_evenly = s_fake_time.to_evenly(kind = 'linear')"
   ]
  },
  {
   "cell_type": "code",
   "execution_count": null,
   "metadata": {},
   "outputs": [],
   "source": [
    "s_fake_time_evenly.plot('.-')\n",
    "s_fake_time.plot('.-')\n",
    "\n",
    "# check type\n",
    "print(type(s_fake_time_evenly))\n",
    "print(type(s_fake_time))"
   ]
  },
  {
   "cell_type": "markdown",
   "metadata": {},
   "source": [
    "#### 1.1.3 Segmentation of signals\n",
    "\n",
    "Two general class functions are provided to segment a signal:\n",
    "1. `segment_time(t_start, t_stop)` is used to extract a portion of the signal between the instants `t_start` and\n",
    "`t_stop`;\n",
    "2. `segment_idx(idx_start, idx_stop)` is used to extract a portion of the signal between the indices `idx_start` and `idx_stop`.\n",
    "\n",
    "The output signal will inherit **`sampling_freq`** and **`signal_nature`** but the **`start_time`** will be set to **`t_start`** or to the instant corresponding to **`idx_start`** accordingly to the method used."
   ]
  },
  {
   "cell_type": "code",
   "execution_count": null,
   "metadata": {
    "collapsed": true
   },
   "outputs": [],
   "source": [
    "# segmentation of ES\n",
    "ecg_segment = ecg.segment_time(45, 54)\n",
    "eda_segment = eda.segment_time(45, 54)"
   ]
  },
  {
   "cell_type": "code",
   "execution_count": null,
   "metadata": {},
   "outputs": [],
   "source": [
    "# plot\n",
    "ax1 = plt.subplot(211)\n",
    "ecg.plot()\n",
    "ecg_segment.plot('r')\n",
    "\n",
    "plt.subplot(212, sharex=ax1)\n",
    "eda.plot()\n",
    "eda_segment.plot('r')\n",
    "\n",
    "print(ecg_segment.get_start_time())"
   ]
  },
  {
   "cell_type": "code",
   "execution_count": null,
   "metadata": {
    "collapsed": true
   },
   "outputs": [],
   "source": [
    "# segmentation of US\n",
    "\n",
    "s_fake_idx_segment = s_fake_idx.segment_time(10.5, 18)\n",
    "s_fake_time_segment = s_fake_time.segment_time(10.5, 18)"
   ]
  },
  {
   "cell_type": "code",
   "execution_count": null,
   "metadata": {},
   "outputs": [],
   "source": [
    "# plot\n",
    "ax1 = plt.subplot(211)\n",
    "s_fake_idx.plot('.-')\n",
    "s_fake_idx_segment.plot('.-r')\n",
    "\n",
    "plt.subplot(212, sharex=ax1)\n",
    "s_fake_time.plot('.-')\n",
    "s_fake_time_segment.plot('.-r')\n",
    "\n",
    "print(s_fake_time_segment.get_start_time())"
   ]
  },
  {
   "cell_type": "markdown",
   "metadata": {},
   "source": [
    "### 1.2 Algorithms in pyphysio"
   ]
  },
  {
   "cell_type": "markdown",
   "metadata": {},
   "source": [
    "A signal processing step is a computational function $F$ that operates on input data (a signal) to produce a result. It is characterized by a set of parameters **p** which regulate its behavior."
   ]
  },
  {
   "cell_type": "markdown",
   "metadata": {},
   "source": [
    "![algorithm](img/algorithm.png)\n",
    "\n",
    "*Figure 1: Abstract representation of a processing step.*"
   ]
  },
  {
   "cell_type": "markdown",
   "metadata": {},
   "source": [
    "1. In pyphysio each processing step is represented by an instance of a class derived from the generic class `Algorithm`.\n",
    "\n",
    "2. The type of function or algorithm is given by the Class name (e.g. `BeatFromECG` extracts the heartbeats from an ECG signal, `PeakDetection` detects the peaks in the input signal).\n",
    "\n",
    "3. The parameters of the function/algorithm are the attributes of the created instance.\n",
    "\n",
    "Therefore, a processing step is defined by creating a new instance of the Class, which is initialized with the given parameters:\n",
    "```\n",
    "processing_step = ph.BeatFromECG(parameters)\n",
    "```\n",
    "To execute the processing step we need to give as input an instance of the class `Signal`:\n",
    "```\n",
    "output = processing_step(input)\n",
    "```\n",
    "\n",
    "\n",
    "Algorithms in pyphysio are grouped in four categories:\n",
    "\n",
    "* Filters : deterministic algorithms that modify the values of the input signal without changing its nature;\n",
    "* Estimators : algorithms that aim at extracting information from the input signal which is given in output as a signal with a different nature;\n",
    "* Indicators : algorithms that operate on the signal to provide a scalar value (or metrics)\n",
    "* Tools : algorithms that can be useful for the signal processing and return as output one or more numpy arrays or scalars."
   ]
  },
  {
   "cell_type": "markdown",
   "metadata": {},
   "source": [
    "#### 1.2.1 Filters\n",
    "\n",
    "Filters return a signal which has the same **`signal_nature`** of the input signal. \n",
    "\n",
    "The name *`Filters`* recalls the aim of this algorithms which is in general to increase the Signal/Noise ratio by filtering out the unwanted components in a signal (e.g high frequency noise)."
   ]
  },
  {
   "cell_type": "code",
   "execution_count": null,
   "metadata": {
    "collapsed": true
   },
   "outputs": [],
   "source": [
    "# create a Filter\n",
    "import pyphysio.filters.Filters as flt\n",
    "\n",
    "lowpass_50 = flt.IIRFilter(fp=50, fs=75, ftype='ellip')"
   ]
  },
  {
   "cell_type": "code",
   "execution_count": null,
   "metadata": {
    "collapsed": true
   },
   "outputs": [],
   "source": [
    "# help inline\n",
    "#?flt.IIRFilter"
   ]
  },
  {
   "cell_type": "code",
   "execution_count": null,
   "metadata": {},
   "outputs": [],
   "source": [
    "# check parameters\n",
    "print(lowpass_50)\n",
    "# OR\n",
    "print(lowpass_50.get())"
   ]
  },
  {
   "cell_type": "code",
   "execution_count": null,
   "metadata": {
    "collapsed": true
   },
   "outputs": [],
   "source": [
    "# apply a Filter\n",
    "ecg_filtered = lowpass_50(ecg)"
   ]
  },
  {
   "cell_type": "code",
   "execution_count": null,
   "metadata": {},
   "outputs": [],
   "source": [
    "#plot\n",
    "ecg.plot()\n",
    "ecg_filtered.plot()"
   ]
  },
  {
   "cell_type": "code",
   "execution_count": null,
   "metadata": {},
   "outputs": [],
   "source": [
    "# check output type\n",
    "ecg.get_signal_nature()"
   ]
  },
  {
   "cell_type": "markdown",
   "metadata": {},
   "source": [
    "#### 1.2.2 Estimators\n",
    "Estimators are algorithms which aim at extracting the information of interest from the input signal, thus returning a new signal which has a different **`signal_nature`**. \n",
    "\n",
    "The name *`Estimators`* recalls the fact that the information extraction depends on the value of the algorithm parameters which might not be known *a-priori*. Thus the result should be considered as an estimate of the real content of information of the input signal."
   ]
  },
  {
   "cell_type": "code",
   "execution_count": null,
   "metadata": {
    "collapsed": true
   },
   "outputs": [],
   "source": [
    "# create an Estimator\n",
    "import pyphysio.estimators.Estimators as est\n",
    "\n",
    "ibi_ecg = est.BeatFromECG()"
   ]
  },
  {
   "cell_type": "code",
   "execution_count": null,
   "metadata": {},
   "outputs": [],
   "source": [
    "# check parameters\n",
    "ibi_ecg"
   ]
  },
  {
   "cell_type": "code",
   "execution_count": null,
   "metadata": {
    "collapsed": true
   },
   "outputs": [],
   "source": [
    "# apply an Estimator\n",
    "ibi = ibi_ecg(ecg_filtered)"
   ]
  },
  {
   "cell_type": "code",
   "execution_count": null,
   "metadata": {},
   "outputs": [],
   "source": [
    "# plot\n",
    "ax1 = plt.subplot(211)\n",
    "ecg.plot()\n",
    "\n",
    "plt.subplot(212, sharex=ax1)\n",
    "ibi.plot()"
   ]
  },
  {
   "cell_type": "code",
   "execution_count": null,
   "metadata": {},
   "outputs": [],
   "source": [
    "# check output type\n",
    "ibi.get_signal_nature()"
   ]
  },
  {
   "cell_type": "markdown",
   "metadata": {},
   "source": [
    "#### 1.2.3 Indicators\n",
    "\n",
    "Indicators are algorithm which extract a metrics (scalar value) from the input signal, for instance a statistic (average).\n",
    "\n",
    "Three types of indicators are provided in **`pyphysio`**:\n",
    "* Time domain indicators: comprising simple statistical indicators and other metrics that can be computed on the signal values;\n",
    "* Frequency domain indicators: metrics that are computed on the Power Spectrum Density (PSD) of the signal;\n",
    "* Non-linear indicators: complex indicators that are computed on the signal values (e.g. Entropy)."
   ]
  },
  {
   "cell_type": "code",
   "execution_count": null,
   "metadata": {
    "collapsed": true
   },
   "outputs": [],
   "source": [
    "# create an Indicator\n",
    "import pyphysio.indicators.TimeDomain as td_ind\n",
    "import pyphysio.indicators.FrequencyDomain as fd_ind"
   ]
  },
  {
   "cell_type": "code",
   "execution_count": null,
   "metadata": {
    "collapsed": true
   },
   "outputs": [],
   "source": [
    "rmssd = td_ind.RMSSD()\n",
    "HF = fd_ind.PowerInBand(interp_freq=4, freq_max=0.4, freq_min=0.15, method = 'ar')"
   ]
  },
  {
   "cell_type": "code",
   "execution_count": null,
   "metadata": {},
   "outputs": [],
   "source": [
    "# check parameters\n",
    "print(rmssd)\n",
    "print(HF)"
   ]
  },
  {
   "cell_type": "code",
   "execution_count": null,
   "metadata": {},
   "outputs": [],
   "source": [
    "# apply an Indicator\n",
    "rmssd_ = rmssd(ibi)\n",
    "HF_ = HF(ibi)\n",
    "\n",
    "print(rmssd_)\n",
    "print(HF_)"
   ]
  },
  {
   "cell_type": "code",
   "execution_count": null,
   "metadata": {},
   "outputs": [],
   "source": [
    "# check output type\n",
    "print(type(rmssd_))\n",
    "print(type(HF_))"
   ]
  },
  {
   "cell_type": "markdown",
   "metadata": {},
   "source": [
    "#### 1.2.4 Tools\n",
    "\n",
    "This is a collection of useful algorithms that can be used for signal processing. \n",
    "\n",
    "These algorithms might return scalar values or numpy arrays."
   ]
  },
  {
   "cell_type": "code",
   "execution_count": null,
   "metadata": {
    "collapsed": true
   },
   "outputs": [],
   "source": [
    "# create a Tool\n",
    "import pyphysio.tools.Tools as tll\n",
    "\n",
    "compute_psd = tll.PSD(method='ar', interp_freq = 4)"
   ]
  },
  {
   "cell_type": "code",
   "execution_count": null,
   "metadata": {},
   "outputs": [],
   "source": [
    "# check parameters\n",
    "compute_psd"
   ]
  },
  {
   "cell_type": "code",
   "execution_count": null,
   "metadata": {},
   "outputs": [],
   "source": [
    "# apply a Tool\n",
    "frequencies, power = compute_psd(ibi)\n",
    "\n",
    "plt.plot(frequencies, power)\n",
    "plt.show()"
   ]
  }
 ],
 "metadata": {
  "kernelspec": {
   "display_name": "python27",
   "language": "python",
   "name": "python27"
  },
  "language_info": {
   "codemirror_mode": {
    "name": "ipython",
    "version": 2
   },
   "file_extension": ".py",
   "mimetype": "text/x-python",
   "name": "python",
   "nbconvert_exporter": "python",
   "pygments_lexer": "ipython2",
   "version": "2.7.13"
  }
 },
 "nbformat": 4,
 "nbformat_minor": 2
}
