{
 "cells": [
  {
   "cell_type": "markdown",
   "metadata": {
    "deletable": true,
    "editable": true
   },
   "source": [
    "# pyphysio tutorial\n",
    "\n",
    "## 2. Algorithms\n",
    "\n",
    "In this second tutorial we will see how to use the class `Algorithm` to create signal processing pipelines.\n",
    "\n",
    "\n",
    "A signal processing step is a computational function $F$ that operates on input data (a signal) to produce a result. It is characterized by a set of parameters **p** which regulate its behavior."
   ]
  },
  {
   "cell_type": "markdown",
   "metadata": {
    "deletable": true,
    "editable": true
   },
   "source": [
    "![algorithm](img/algorithm.png)\n",
    "\n",
    "*Figure 1: Abstract representation of a processing step.*"
   ]
  },
  {
   "cell_type": "markdown",
   "metadata": {
    "deletable": true,
    "editable": true
   },
   "source": [
    "1. In pyphysio each processing step is represented by an instance of a class derived from the generic class `Algorithm`.\n",
    "\n",
    "2. The type of function or algorithm is given by the class name (e.g. `BeatFromECG` extracts the heartbeats from an ECG signal, `PeakDetection` detects the peaks in the input signal).\n",
    "\n",
    "3. The parameters of the function/algorithm are the attributes of the created instance.\n",
    "\n",
    "Therefore, a processing step is defined by creating a new instance of the Class, which is initialized with the given parameters:\n",
    "```\n",
    "processing_step = ph.BeatFromECG(parameters)\n",
    "```\n",
    "To execute the processing step we need to give as input an instance of the class `Signal`:\n",
    "```\n",
    "output = processing_step(input)\n",
    "```\n",
    "\n",
    "\n",
    "Algorithms in pyphysio are grouped in four categories (see also the tutorial '3-pipelines'):\n",
    "\n",
    "* Filters : deterministic algorithms that modify the values of the input signal without changing its nature;\n",
    "* Estimators : algorithms that aim at extracting information from the input signal which is given in output as a signal with a different nature;\n",
    "* Indicators : algorithms that operate on the signal to provide a scalar value (or metrics)\n",
    "* Tools : algorithms that can be useful for the signal processing and return as output one or more numpy arrays or scalars."
   ]
  },
  {
   "cell_type": "code",
   "execution_count": null,
   "metadata": {
    "collapsed": true,
    "deletable": true,
    "editable": true
   },
   "outputs": [],
   "source": [
    "# import packages\n",
    "from __future__ import division\n",
    "import numpy as np\n",
    "import matplotlib.pyplot as plt\n",
    "\n",
    "%matplotlib inline\n",
    "\n",
    "# import data from included examples\n",
    "from pyphysio import TestData, EvenlySignal\n",
    "\n",
    "ecg_data = TestData.ecg()\n",
    "eda_data = TestData.eda()\n",
    "\n",
    "# create two signals\n",
    "fsamp = 2048\n",
    "tstart_ecg = 15\n",
    "tstart_eda = 5\n",
    "\n",
    "ecg = EvenlySignal(values = ecg_data, \n",
    "                   sampling_freq = fsamp, \n",
    "                   signal_nature = 'ecg', \n",
    "                   start_time = tstart_ecg)\n",
    "\n",
    "eda = EvenlySignal(values = eda_data, \n",
    "                   sampling_freq = fsamp, \n",
    "                   signal_nature = 'eda', \n",
    "                   start_time = tstart_eda)"
   ]
  },
  {
   "cell_type": "markdown",
   "metadata": {
    "deletable": true,
    "editable": true
   },
   "source": [
    "### 2.1 Filters\n",
    "\n",
    "Filters return a signal which has the same **`signal_nature`** of the input signal. \n",
    "\n",
    "The name *`Filters`* recalls the aim of this algorithms which is in general to increase the Signal/Noise ratio by filtering out the unwanted components in a signal (e.g high frequency noise)."
   ]
  },
  {
   "cell_type": "code",
   "execution_count": null,
   "metadata": {
    "collapsed": true,
    "deletable": true,
    "editable": true
   },
   "outputs": [],
   "source": [
    "# create a Filter\n",
    "import pyphysio.filters.Filters as flt\n",
    "\n",
    "lowpass_50 = flt.IIRFilter(fp=50, fs=75, ftype='ellip')"
   ]
  },
  {
   "cell_type": "code",
   "execution_count": null,
   "metadata": {
    "collapsed": true,
    "deletable": true,
    "editable": true
   },
   "outputs": [],
   "source": [
    "# help inline\n",
    "#?flt.IIRFilter"
   ]
  },
  {
   "cell_type": "code",
   "execution_count": null,
   "metadata": {
    "collapsed": false,
    "deletable": true,
    "editable": true
   },
   "outputs": [],
   "source": [
    "# check parameters\n",
    "print(lowpass_50)\n",
    "# OR\n",
    "print(lowpass_50.get())"
   ]
  },
  {
   "cell_type": "code",
   "execution_count": null,
   "metadata": {
    "collapsed": false,
    "deletable": true,
    "editable": true
   },
   "outputs": [],
   "source": [
    "# apply a Filter\n",
    "ecg_filtered = lowpass_50(ecg)"
   ]
  },
  {
   "cell_type": "code",
   "execution_count": null,
   "metadata": {
    "collapsed": false,
    "deletable": true,
    "editable": true
   },
   "outputs": [],
   "source": [
    "#plot\n",
    "ecg.plot()\n",
    "ecg_filtered.plot()"
   ]
  },
  {
   "cell_type": "code",
   "execution_count": null,
   "metadata": {
    "collapsed": false,
    "deletable": true,
    "editable": true
   },
   "outputs": [],
   "source": [
    "# check output type\n",
    "ecg.get_signal_nature()"
   ]
  },
  {
   "cell_type": "markdown",
   "metadata": {
    "deletable": true,
    "editable": true
   },
   "source": [
    "### 2.2 Estimators\n",
    "Estimators are algorithms which aim at extracting the information of interest from the input signal, thus returning a new signal which has a different **`signal_nature`**. \n",
    "\n",
    "The name *`Estimators`* recalls the fact that the information extraction depends on the value of the algorithm parameters which might not be known *a-priori*. Thus the result should be considered as an estimate of the real content of information of the input signal."
   ]
  },
  {
   "cell_type": "code",
   "execution_count": null,
   "metadata": {
    "collapsed": true,
    "deletable": true,
    "editable": true
   },
   "outputs": [],
   "source": [
    "# create an Estimator\n",
    "import pyphysio.estimators.Estimators as est\n",
    "\n",
    "ibi_ecg = est.BeatFromECG()"
   ]
  },
  {
   "cell_type": "code",
   "execution_count": null,
   "metadata": {
    "collapsed": false,
    "deletable": true,
    "editable": true
   },
   "outputs": [],
   "source": [
    "# check parameters\n",
    "ibi_ecg"
   ]
  },
  {
   "cell_type": "code",
   "execution_count": null,
   "metadata": {
    "collapsed": true,
    "deletable": true,
    "editable": true
   },
   "outputs": [],
   "source": [
    "# apply an Estimator\n",
    "ibi = ibi_ecg(ecg_filtered)"
   ]
  },
  {
   "cell_type": "code",
   "execution_count": null,
   "metadata": {
    "collapsed": false,
    "deletable": true,
    "editable": true
   },
   "outputs": [],
   "source": [
    "# plot\n",
    "ax1 = plt.subplot(211)\n",
    "ecg.plot()\n",
    "\n",
    "plt.subplot(212, sharex=ax1)\n",
    "ibi.plot()"
   ]
  },
  {
   "cell_type": "code",
   "execution_count": null,
   "metadata": {
    "collapsed": false,
    "deletable": true,
    "editable": true
   },
   "outputs": [],
   "source": [
    "# check output type\n",
    "ibi.get_signal_nature()"
   ]
  },
  {
   "cell_type": "markdown",
   "metadata": {
    "deletable": true,
    "editable": true
   },
   "source": [
    "### 2.3 Indicators\n",
    "\n",
    "Indicators are algorithm which extract a metrics (scalar value) from the input signal, for instance a statistic (average).\n",
    "\n",
    "Three types of indicators are provided in **`pyphysio`**:\n",
    "* Time domain indicators: comprising simple statistical indicators and other metrics that can be computed on the signal values;\n",
    "* Frequency domain indicators: metrics that are computed on the Power Spectrum Density (PSD) of the signal;\n",
    "* Non-linear indicators: complex indicators that are computed on the signal values (e.g. Entropy)."
   ]
  },
  {
   "cell_type": "code",
   "execution_count": null,
   "metadata": {
    "collapsed": true,
    "deletable": true,
    "editable": true
   },
   "outputs": [],
   "source": [
    "# create an Indicator\n",
    "import pyphysio.indicators.TimeDomain as td_ind\n",
    "import pyphysio.indicators.FrequencyDomain as fd_ind"
   ]
  },
  {
   "cell_type": "code",
   "execution_count": null,
   "metadata": {
    "collapsed": true,
    "deletable": true,
    "editable": true
   },
   "outputs": [],
   "source": [
    "rmssd = td_ind.RMSSD()\n",
    "HF = fd_ind.PowerInBand(interp_freq=4, freq_max=0.4, freq_min=0.15, method = 'ar')"
   ]
  },
  {
   "cell_type": "code",
   "execution_count": null,
   "metadata": {
    "collapsed": false,
    "deletable": true,
    "editable": true
   },
   "outputs": [],
   "source": [
    "# check parameters\n",
    "print(rmssd)\n",
    "print(HF)"
   ]
  },
  {
   "cell_type": "code",
   "execution_count": null,
   "metadata": {
    "collapsed": false,
    "deletable": true,
    "editable": true
   },
   "outputs": [],
   "source": [
    "# apply an Indicator\n",
    "rmssd_ = rmssd(ibi)\n",
    "HF_ = HF(ibi)\n",
    "\n",
    "print(rmssd_)\n",
    "print(HF_)"
   ]
  },
  {
   "cell_type": "code",
   "execution_count": null,
   "metadata": {
    "collapsed": false,
    "deletable": true,
    "editable": true
   },
   "outputs": [],
   "source": [
    "# check output type\n",
    "print(type(rmssd_))\n",
    "print(type(HF_))"
   ]
  },
  {
   "cell_type": "markdown",
   "metadata": {
    "deletable": true,
    "editable": true
   },
   "source": [
    "### 2.4 Tools\n",
    "\n",
    "This is a collection of useful algorithms that can be used for signal processing. \n",
    "\n",
    "These algorithms might return scalar values or numpy arrays."
   ]
  },
  {
   "cell_type": "code",
   "execution_count": null,
   "metadata": {
    "collapsed": true,
    "deletable": true,
    "editable": true
   },
   "outputs": [],
   "source": [
    "# create a Tool\n",
    "import pyphysio.tools.Tools as tll\n",
    "\n",
    "compute_psd = tll.PSD(method='ar', interp_freq = 4)"
   ]
  },
  {
   "cell_type": "code",
   "execution_count": null,
   "metadata": {
    "collapsed": false,
    "deletable": true,
    "editable": true
   },
   "outputs": [],
   "source": [
    "# check parameters\n",
    "compute_psd"
   ]
  },
  {
   "cell_type": "code",
   "execution_count": null,
   "metadata": {
    "collapsed": false,
    "deletable": true,
    "editable": true
   },
   "outputs": [],
   "source": [
    "# apply a Tool\n",
    "frequencies, power = compute_psd(ibi)\n",
    "\n",
    "plt.plot(frequencies, power)\n",
    "plt.show()"
   ]
  }
 ],
 "metadata": {
  "kernelspec": {
   "display_name": "Python 3",
   "language": "python",
   "name": "python3"
  },
  "language_info": {
   "codemirror_mode": {
    "name": "ipython",
    "version": 3
   },
   "file_extension": ".py",
   "mimetype": "text/x-python",
   "name": "python",
   "nbconvert_exporter": "python",
   "pygments_lexer": "ipython3",
   "version": "3.6.0"
  }
 },
 "nbformat": 4,
 "nbformat_minor": 2
}
